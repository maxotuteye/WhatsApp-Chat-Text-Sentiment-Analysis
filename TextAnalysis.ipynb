{
  "nbformat": 4,
  "nbformat_minor": 0,
  "metadata": {
    "colab": {
      "name": "whatsapp.ipynb",
      "provenance": [],
      "collapsed_sections": [],
      "include_colab_link": true
    },
    "kernelspec": {
      "name": "python3",
      "display_name": "Python 3"
    },
    "widgets": {
      "application/vnd.jupyter.widget-state+json": {
        "f891400fe63d4dc6bab9cbb66968795b": {
          "model_module": "@jupyter-widgets/controls",
          "model_name": "HBoxModel",
          "state": {
            "_view_name": "HBoxView",
            "_dom_classes": [],
            "_model_name": "HBoxModel",
            "_view_module": "@jupyter-widgets/controls",
            "_model_module_version": "1.5.0",
            "_view_count": null,
            "_view_module_version": "1.5.0",
            "box_style": "",
            "layout": "IPY_MODEL_943394b1799140409d9a65191192e16b",
            "_model_module": "@jupyter-widgets/controls",
            "children": [
              "IPY_MODEL_323e448f300f470d81378afcb93763a2",
              "IPY_MODEL_07378ec1bb504c02a1401ea99a10bbb3"
            ]
          }
        },
        "943394b1799140409d9a65191192e16b": {
          "model_module": "@jupyter-widgets/base",
          "model_name": "LayoutModel",
          "state": {
            "_view_name": "LayoutView",
            "grid_template_rows": null,
            "right": null,
            "justify_content": null,
            "_view_module": "@jupyter-widgets/base",
            "overflow": null,
            "_model_module_version": "1.2.0",
            "_view_count": null,
            "flex_flow": null,
            "width": null,
            "min_width": null,
            "border": null,
            "align_items": null,
            "bottom": null,
            "_model_module": "@jupyter-widgets/base",
            "top": null,
            "grid_column": null,
            "overflow_y": null,
            "overflow_x": null,
            "grid_auto_flow": null,
            "grid_area": null,
            "grid_template_columns": null,
            "flex": null,
            "_model_name": "LayoutModel",
            "justify_items": null,
            "grid_row": null,
            "max_height": null,
            "align_content": null,
            "visibility": null,
            "align_self": null,
            "height": null,
            "min_height": null,
            "padding": null,
            "grid_auto_rows": null,
            "grid_gap": null,
            "max_width": null,
            "order": null,
            "_view_module_version": "1.2.0",
            "grid_template_areas": null,
            "object_position": null,
            "object_fit": null,
            "grid_auto_columns": null,
            "margin": null,
            "display": null,
            "left": null
          }
        },
        "323e448f300f470d81378afcb93763a2": {
          "model_module": "@jupyter-widgets/controls",
          "model_name": "FloatProgressModel",
          "state": {
            "_view_name": "ProgressView",
            "style": "IPY_MODEL_467d381943b940edac429b3161bf9e96",
            "_dom_classes": [],
            "description": "100%",
            "_model_name": "FloatProgressModel",
            "bar_style": "success",
            "max": 31321,
            "_view_module": "@jupyter-widgets/controls",
            "_model_module_version": "1.5.0",
            "value": 31321,
            "_view_count": null,
            "_view_module_version": "1.5.0",
            "orientation": "horizontal",
            "min": 0,
            "description_tooltip": null,
            "_model_module": "@jupyter-widgets/controls",
            "layout": "IPY_MODEL_d9295bad924e4d839d7d35614f74c0ba"
          }
        },
        "07378ec1bb504c02a1401ea99a10bbb3": {
          "model_module": "@jupyter-widgets/controls",
          "model_name": "HTMLModel",
          "state": {
            "_view_name": "HTMLView",
            "style": "IPY_MODEL_d0b467c826c8489086f823cea53cad46",
            "_dom_classes": [],
            "description": "",
            "_model_name": "HTMLModel",
            "placeholder": "​",
            "_view_module": "@jupyter-widgets/controls",
            "_model_module_version": "1.5.0",
            "value": " 31321/31321 [00:01&lt;00:00, 27562.02line/s]",
            "_view_count": null,
            "_view_module_version": "1.5.0",
            "description_tooltip": null,
            "_model_module": "@jupyter-widgets/controls",
            "layout": "IPY_MODEL_052eacbc0f194739a62b8e300e40c766"
          }
        },
        "467d381943b940edac429b3161bf9e96": {
          "model_module": "@jupyter-widgets/controls",
          "model_name": "ProgressStyleModel",
          "state": {
            "_view_name": "StyleView",
            "_model_name": "ProgressStyleModel",
            "description_width": "initial",
            "_view_module": "@jupyter-widgets/base",
            "_model_module_version": "1.5.0",
            "_view_count": null,
            "_view_module_version": "1.2.0",
            "bar_color": null,
            "_model_module": "@jupyter-widgets/controls"
          }
        },
        "d9295bad924e4d839d7d35614f74c0ba": {
          "model_module": "@jupyter-widgets/base",
          "model_name": "LayoutModel",
          "state": {
            "_view_name": "LayoutView",
            "grid_template_rows": null,
            "right": null,
            "justify_content": null,
            "_view_module": "@jupyter-widgets/base",
            "overflow": null,
            "_model_module_version": "1.2.0",
            "_view_count": null,
            "flex_flow": null,
            "width": null,
            "min_width": null,
            "border": null,
            "align_items": null,
            "bottom": null,
            "_model_module": "@jupyter-widgets/base",
            "top": null,
            "grid_column": null,
            "overflow_y": null,
            "overflow_x": null,
            "grid_auto_flow": null,
            "grid_area": null,
            "grid_template_columns": null,
            "flex": null,
            "_model_name": "LayoutModel",
            "justify_items": null,
            "grid_row": null,
            "max_height": null,
            "align_content": null,
            "visibility": null,
            "align_self": null,
            "height": null,
            "min_height": null,
            "padding": null,
            "grid_auto_rows": null,
            "grid_gap": null,
            "max_width": null,
            "order": null,
            "_view_module_version": "1.2.0",
            "grid_template_areas": null,
            "object_position": null,
            "object_fit": null,
            "grid_auto_columns": null,
            "margin": null,
            "display": null,
            "left": null
          }
        },
        "d0b467c826c8489086f823cea53cad46": {
          "model_module": "@jupyter-widgets/controls",
          "model_name": "DescriptionStyleModel",
          "state": {
            "_view_name": "StyleView",
            "_model_name": "DescriptionStyleModel",
            "description_width": "",
            "_view_module": "@jupyter-widgets/base",
            "_model_module_version": "1.5.0",
            "_view_count": null,
            "_view_module_version": "1.2.0",
            "_model_module": "@jupyter-widgets/controls"
          }
        },
        "052eacbc0f194739a62b8e300e40c766": {
          "model_module": "@jupyter-widgets/base",
          "model_name": "LayoutModel",
          "state": {
            "_view_name": "LayoutView",
            "grid_template_rows": null,
            "right": null,
            "justify_content": null,
            "_view_module": "@jupyter-widgets/base",
            "overflow": null,
            "_model_module_version": "1.2.0",
            "_view_count": null,
            "flex_flow": null,
            "width": null,
            "min_width": null,
            "border": null,
            "align_items": null,
            "bottom": null,
            "_model_module": "@jupyter-widgets/base",
            "top": null,
            "grid_column": null,
            "overflow_y": null,
            "overflow_x": null,
            "grid_auto_flow": null,
            "grid_area": null,
            "grid_template_columns": null,
            "flex": null,
            "_model_name": "LayoutModel",
            "justify_items": null,
            "grid_row": null,
            "max_height": null,
            "align_content": null,
            "visibility": null,
            "align_self": null,
            "height": null,
            "min_height": null,
            "padding": null,
            "grid_auto_rows": null,
            "grid_gap": null,
            "max_width": null,
            "order": null,
            "_view_module_version": "1.2.0",
            "grid_template_areas": null,
            "object_position": null,
            "object_fit": null,
            "grid_auto_columns": null,
            "margin": null,
            "display": null,
            "left": null
          }
        },
        "6269c06bd4db4549b6dd0cefa03a20a3": {
          "model_module": "@jupyter-widgets/controls",
          "model_name": "HBoxModel",
          "state": {
            "_view_name": "HBoxView",
            "_dom_classes": [],
            "_model_name": "HBoxModel",
            "_view_module": "@jupyter-widgets/controls",
            "_model_module_version": "1.5.0",
            "_view_count": null,
            "_view_module_version": "1.5.0",
            "box_style": "",
            "layout": "IPY_MODEL_dd4cebca67e04666bd49e374dcb822ae",
            "_model_module": "@jupyter-widgets/controls",
            "children": [
              "IPY_MODEL_7e39afcdd9784fe48dc48820dfae4e59",
              "IPY_MODEL_11e7deacbeac4f85bd24eaa3c44c3b0a"
            ]
          }
        },
        "dd4cebca67e04666bd49e374dcb822ae": {
          "model_module": "@jupyter-widgets/base",
          "model_name": "LayoutModel",
          "state": {
            "_view_name": "LayoutView",
            "grid_template_rows": null,
            "right": null,
            "justify_content": null,
            "_view_module": "@jupyter-widgets/base",
            "overflow": null,
            "_model_module_version": "1.2.0",
            "_view_count": null,
            "flex_flow": null,
            "width": null,
            "min_width": null,
            "border": null,
            "align_items": null,
            "bottom": null,
            "_model_module": "@jupyter-widgets/base",
            "top": null,
            "grid_column": null,
            "overflow_y": null,
            "overflow_x": null,
            "grid_auto_flow": null,
            "grid_area": null,
            "grid_template_columns": null,
            "flex": null,
            "_model_name": "LayoutModel",
            "justify_items": null,
            "grid_row": null,
            "max_height": null,
            "align_content": null,
            "visibility": null,
            "align_self": null,
            "height": null,
            "min_height": null,
            "padding": null,
            "grid_auto_rows": null,
            "grid_gap": null,
            "max_width": null,
            "order": null,
            "_view_module_version": "1.2.0",
            "grid_template_areas": null,
            "object_position": null,
            "object_fit": null,
            "grid_auto_columns": null,
            "margin": null,
            "display": null,
            "left": null
          }
        },
        "7e39afcdd9784fe48dc48820dfae4e59": {
          "model_module": "@jupyter-widgets/controls",
          "model_name": "FloatProgressModel",
          "state": {
            "_view_name": "ProgressView",
            "style": "IPY_MODEL_431b7599461a4c7d9ddad11668fa75f5",
            "_dom_classes": [],
            "description": "100%",
            "_model_name": "FloatProgressModel",
            "bar_style": "success",
            "max": 31321,
            "_view_module": "@jupyter-widgets/controls",
            "_model_module_version": "1.5.0",
            "value": 31321,
            "_view_count": null,
            "_view_module_version": "1.5.0",
            "orientation": "horizontal",
            "min": 0,
            "description_tooltip": null,
            "_model_module": "@jupyter-widgets/controls",
            "layout": "IPY_MODEL_b6b4eeaaa0ab454e85adadeff4e62358"
          }
        },
        "11e7deacbeac4f85bd24eaa3c44c3b0a": {
          "model_module": "@jupyter-widgets/controls",
          "model_name": "HTMLModel",
          "state": {
            "_view_name": "HTMLView",
            "style": "IPY_MODEL_b55bbf2d81e14429a3da9642b1346bf7",
            "_dom_classes": [],
            "description": "",
            "_model_name": "HTMLModel",
            "placeholder": "​",
            "_view_module": "@jupyter-widgets/controls",
            "_model_module_version": "1.5.0",
            "value": " 31321/31321 [00:00&lt;00:00, 53037.73line/s]",
            "_view_count": null,
            "_view_module_version": "1.5.0",
            "description_tooltip": null,
            "_model_module": "@jupyter-widgets/controls",
            "layout": "IPY_MODEL_9d0ad08f53774d38bb194e021d77d23f"
          }
        },
        "431b7599461a4c7d9ddad11668fa75f5": {
          "model_module": "@jupyter-widgets/controls",
          "model_name": "ProgressStyleModel",
          "state": {
            "_view_name": "StyleView",
            "_model_name": "ProgressStyleModel",
            "description_width": "initial",
            "_view_module": "@jupyter-widgets/base",
            "_model_module_version": "1.5.0",
            "_view_count": null,
            "_view_module_version": "1.2.0",
            "bar_color": null,
            "_model_module": "@jupyter-widgets/controls"
          }
        },
        "b6b4eeaaa0ab454e85adadeff4e62358": {
          "model_module": "@jupyter-widgets/base",
          "model_name": "LayoutModel",
          "state": {
            "_view_name": "LayoutView",
            "grid_template_rows": null,
            "right": null,
            "justify_content": null,
            "_view_module": "@jupyter-widgets/base",
            "overflow": null,
            "_model_module_version": "1.2.0",
            "_view_count": null,
            "flex_flow": null,
            "width": null,
            "min_width": null,
            "border": null,
            "align_items": null,
            "bottom": null,
            "_model_module": "@jupyter-widgets/base",
            "top": null,
            "grid_column": null,
            "overflow_y": null,
            "overflow_x": null,
            "grid_auto_flow": null,
            "grid_area": null,
            "grid_template_columns": null,
            "flex": null,
            "_model_name": "LayoutModel",
            "justify_items": null,
            "grid_row": null,
            "max_height": null,
            "align_content": null,
            "visibility": null,
            "align_self": null,
            "height": null,
            "min_height": null,
            "padding": null,
            "grid_auto_rows": null,
            "grid_gap": null,
            "max_width": null,
            "order": null,
            "_view_module_version": "1.2.0",
            "grid_template_areas": null,
            "object_position": null,
            "object_fit": null,
            "grid_auto_columns": null,
            "margin": null,
            "display": null,
            "left": null
          }
        },
        "b55bbf2d81e14429a3da9642b1346bf7": {
          "model_module": "@jupyter-widgets/controls",
          "model_name": "DescriptionStyleModel",
          "state": {
            "_view_name": "StyleView",
            "_model_name": "DescriptionStyleModel",
            "description_width": "",
            "_view_module": "@jupyter-widgets/base",
            "_model_module_version": "1.5.0",
            "_view_count": null,
            "_view_module_version": "1.2.0",
            "_model_module": "@jupyter-widgets/controls"
          }
        },
        "9d0ad08f53774d38bb194e021d77d23f": {
          "model_module": "@jupyter-widgets/base",
          "model_name": "LayoutModel",
          "state": {
            "_view_name": "LayoutView",
            "grid_template_rows": null,
            "right": null,
            "justify_content": null,
            "_view_module": "@jupyter-widgets/base",
            "overflow": null,
            "_model_module_version": "1.2.0",
            "_view_count": null,
            "flex_flow": null,
            "width": null,
            "min_width": null,
            "border": null,
            "align_items": null,
            "bottom": null,
            "_model_module": "@jupyter-widgets/base",
            "top": null,
            "grid_column": null,
            "overflow_y": null,
            "overflow_x": null,
            "grid_auto_flow": null,
            "grid_area": null,
            "grid_template_columns": null,
            "flex": null,
            "_model_name": "LayoutModel",
            "justify_items": null,
            "grid_row": null,
            "max_height": null,
            "align_content": null,
            "visibility": null,
            "align_self": null,
            "height": null,
            "min_height": null,
            "padding": null,
            "grid_auto_rows": null,
            "grid_gap": null,
            "max_width": null,
            "order": null,
            "_view_module_version": "1.2.0",
            "grid_template_areas": null,
            "object_position": null,
            "object_fit": null,
            "grid_auto_columns": null,
            "margin": null,
            "display": null,
            "left": null
          }
        },
        "b479d8b2efb446a4ae30bd51c820b558": {
          "model_module": "@jupyter-widgets/controls",
          "model_name": "HBoxModel",
          "state": {
            "_view_name": "HBoxView",
            "_dom_classes": [],
            "_model_name": "HBoxModel",
            "_view_module": "@jupyter-widgets/controls",
            "_model_module_version": "1.5.0",
            "_view_count": null,
            "_view_module_version": "1.5.0",
            "box_style": "",
            "layout": "IPY_MODEL_210b38602aba48bea235a35f6704d503",
            "_model_module": "@jupyter-widgets/controls",
            "children": [
              "IPY_MODEL_619c09e5d1e24069a398f907d0bc5771",
              "IPY_MODEL_5e407a87dfbf450eb6e48c486b817056"
            ]
          }
        },
        "210b38602aba48bea235a35f6704d503": {
          "model_module": "@jupyter-widgets/base",
          "model_name": "LayoutModel",
          "state": {
            "_view_name": "LayoutView",
            "grid_template_rows": null,
            "right": null,
            "justify_content": null,
            "_view_module": "@jupyter-widgets/base",
            "overflow": null,
            "_model_module_version": "1.2.0",
            "_view_count": null,
            "flex_flow": null,
            "width": null,
            "min_width": null,
            "border": null,
            "align_items": null,
            "bottom": null,
            "_model_module": "@jupyter-widgets/base",
            "top": null,
            "grid_column": null,
            "overflow_y": null,
            "overflow_x": null,
            "grid_auto_flow": null,
            "grid_area": null,
            "grid_template_columns": null,
            "flex": null,
            "_model_name": "LayoutModel",
            "justify_items": null,
            "grid_row": null,
            "max_height": null,
            "align_content": null,
            "visibility": null,
            "align_self": null,
            "height": null,
            "min_height": null,
            "padding": null,
            "grid_auto_rows": null,
            "grid_gap": null,
            "max_width": null,
            "order": null,
            "_view_module_version": "1.2.0",
            "grid_template_areas": null,
            "object_position": null,
            "object_fit": null,
            "grid_auto_columns": null,
            "margin": null,
            "display": null,
            "left": null
          }
        },
        "619c09e5d1e24069a398f907d0bc5771": {
          "model_module": "@jupyter-widgets/controls",
          "model_name": "FloatProgressModel",
          "state": {
            "_view_name": "ProgressView",
            "style": "IPY_MODEL_ff08f3ee7a434c339344fa01f1d46846",
            "_dom_classes": [],
            "description": "100%",
            "_model_name": "FloatProgressModel",
            "bar_style": "success",
            "max": 31321,
            "_view_module": "@jupyter-widgets/controls",
            "_model_module_version": "1.5.0",
            "value": 31321,
            "_view_count": null,
            "_view_module_version": "1.5.0",
            "orientation": "horizontal",
            "min": 0,
            "description_tooltip": null,
            "_model_module": "@jupyter-widgets/controls",
            "layout": "IPY_MODEL_0b4b5f17953345e294af131f52ecfe6e"
          }
        },
        "5e407a87dfbf450eb6e48c486b817056": {
          "model_module": "@jupyter-widgets/controls",
          "model_name": "HTMLModel",
          "state": {
            "_view_name": "HTMLView",
            "style": "IPY_MODEL_785387372d94474eac3dbe52f6a6ed4a",
            "_dom_classes": [],
            "description": "",
            "_model_name": "HTMLModel",
            "placeholder": "​",
            "_view_module": "@jupyter-widgets/controls",
            "_model_module_version": "1.5.0",
            "value": " 31321/31321 [00:00&lt;00:00, 65463.66line/s]",
            "_view_count": null,
            "_view_module_version": "1.5.0",
            "description_tooltip": null,
            "_model_module": "@jupyter-widgets/controls",
            "layout": "IPY_MODEL_875ab5089e244202b48a70ebde9e920c"
          }
        },
        "ff08f3ee7a434c339344fa01f1d46846": {
          "model_module": "@jupyter-widgets/controls",
          "model_name": "ProgressStyleModel",
          "state": {
            "_view_name": "StyleView",
            "_model_name": "ProgressStyleModel",
            "description_width": "initial",
            "_view_module": "@jupyter-widgets/base",
            "_model_module_version": "1.5.0",
            "_view_count": null,
            "_view_module_version": "1.2.0",
            "bar_color": null,
            "_model_module": "@jupyter-widgets/controls"
          }
        },
        "0b4b5f17953345e294af131f52ecfe6e": {
          "model_module": "@jupyter-widgets/base",
          "model_name": "LayoutModel",
          "state": {
            "_view_name": "LayoutView",
            "grid_template_rows": null,
            "right": null,
            "justify_content": null,
            "_view_module": "@jupyter-widgets/base",
            "overflow": null,
            "_model_module_version": "1.2.0",
            "_view_count": null,
            "flex_flow": null,
            "width": null,
            "min_width": null,
            "border": null,
            "align_items": null,
            "bottom": null,
            "_model_module": "@jupyter-widgets/base",
            "top": null,
            "grid_column": null,
            "overflow_y": null,
            "overflow_x": null,
            "grid_auto_flow": null,
            "grid_area": null,
            "grid_template_columns": null,
            "flex": null,
            "_model_name": "LayoutModel",
            "justify_items": null,
            "grid_row": null,
            "max_height": null,
            "align_content": null,
            "visibility": null,
            "align_self": null,
            "height": null,
            "min_height": null,
            "padding": null,
            "grid_auto_rows": null,
            "grid_gap": null,
            "max_width": null,
            "order": null,
            "_view_module_version": "1.2.0",
            "grid_template_areas": null,
            "object_position": null,
            "object_fit": null,
            "grid_auto_columns": null,
            "margin": null,
            "display": null,
            "left": null
          }
        },
        "785387372d94474eac3dbe52f6a6ed4a": {
          "model_module": "@jupyter-widgets/controls",
          "model_name": "DescriptionStyleModel",
          "state": {
            "_view_name": "StyleView",
            "_model_name": "DescriptionStyleModel",
            "description_width": "",
            "_view_module": "@jupyter-widgets/base",
            "_model_module_version": "1.5.0",
            "_view_count": null,
            "_view_module_version": "1.2.0",
            "_model_module": "@jupyter-widgets/controls"
          }
        },
        "875ab5089e244202b48a70ebde9e920c": {
          "model_module": "@jupyter-widgets/base",
          "model_name": "LayoutModel",
          "state": {
            "_view_name": "LayoutView",
            "grid_template_rows": null,
            "right": null,
            "justify_content": null,
            "_view_module": "@jupyter-widgets/base",
            "overflow": null,
            "_model_module_version": "1.2.0",
            "_view_count": null,
            "flex_flow": null,
            "width": null,
            "min_width": null,
            "border": null,
            "align_items": null,
            "bottom": null,
            "_model_module": "@jupyter-widgets/base",
            "top": null,
            "grid_column": null,
            "overflow_y": null,
            "overflow_x": null,
            "grid_auto_flow": null,
            "grid_area": null,
            "grid_template_columns": null,
            "flex": null,
            "_model_name": "LayoutModel",
            "justify_items": null,
            "grid_row": null,
            "max_height": null,
            "align_content": null,
            "visibility": null,
            "align_self": null,
            "height": null,
            "min_height": null,
            "padding": null,
            "grid_auto_rows": null,
            "grid_gap": null,
            "max_width": null,
            "order": null,
            "_view_module_version": "1.2.0",
            "grid_template_areas": null,
            "object_position": null,
            "object_fit": null,
            "grid_auto_columns": null,
            "margin": null,
            "display": null,
            "left": null
          }
        }
      }
    }
  },
  "cells": [
    {
      "cell_type": "markdown",
      "metadata": {
        "id": "view-in-github",
        "colab_type": "text"
      },
      "source": [
        "<a href=\"https://colab.research.google.com/github/maxotuteye/MLandAI/blob/main/whatsapp.ipynb\" target=\"_parent\"><img src=\"https://colab.research.google.com/assets/colab-badge.svg\" alt=\"Open In Colab\"/></a>"
      ]
    },
    {
      "cell_type": "code",
      "metadata": {
        "colab": {
          "base_uri": "https://localhost:8080/"
        },
        "id": "irnSdZcRiMXV",
        "outputId": "6e674875-47fc-4333-ebfb-bf028517f086"
      },
      "source": [
        "!pip install profanity_check emoji"
      ],
      "execution_count": null,
      "outputs": [
        {
          "output_type": "stream",
          "text": [
            "Requirement already satisfied: profanity_check in /usr/local/lib/python3.6/dist-packages (1.0.3)\n",
            "Requirement already satisfied: emoji in /usr/local/lib/python3.6/dist-packages (0.6.0)\n",
            "Requirement already satisfied: scikit-learn>=0.20.2 in /usr/local/lib/python3.6/dist-packages (from profanity_check) (0.22.2.post1)\n",
            "Requirement already satisfied: scipy>=0.17.0 in /usr/local/lib/python3.6/dist-packages (from scikit-learn>=0.20.2->profanity_check) (1.4.1)\n",
            "Requirement already satisfied: numpy>=1.11.0 in /usr/local/lib/python3.6/dist-packages (from scikit-learn>=0.20.2->profanity_check) (1.18.5)\n",
            "Requirement already satisfied: joblib>=0.11 in /usr/local/lib/python3.6/dist-packages (from scikit-learn>=0.20.2->profanity_check) (0.17.0)\n"
          ],
          "name": "stdout"
        }
      ]
    },
    {
      "cell_type": "code",
      "metadata": {
        "id": "oaQFKQ4EIDQ4",
        "colab": {
          "base_uri": "https://localhost:8080/"
        },
        "outputId": "f91809a3-8600-4b98-f333-622176cbae36"
      },
      "source": [
        "import pandas as pd\n",
        "from tqdm.notebook import tqdm_notebook\n",
        "from dateutil import parser\n",
        "import seaborn as sns\n",
        "import matplotlib.pyplot as plt\n",
        "import datetime\n",
        "import numpy as np\n",
        "from profanity_check import predict, predict_prob\n",
        "import warnings\n",
        "import nltk\n",
        "from nltk.sentiment.vader import SentimentIntensityAnalyzer\n",
        "nltk.download('vader_lexicon')\n",
        "from textblob import TextBlob\n",
        "import emoji\n",
        "import itertools \n",
        "import matplotlib.style as style\n",
        "from google.colab import files"
      ],
      "execution_count": null,
      "outputs": [
        {
          "output_type": "stream",
          "text": [
            "/usr/local/lib/python3.6/dist-packages/sklearn/externals/joblib/__init__.py:15: FutureWarning: sklearn.externals.joblib is deprecated in 0.21 and will be removed in 0.23. Please import this functionality directly from joblib, which can be installed with: pip install joblib. If this warning is raised when loading pickled models, you may need to re-serialize those models with scikit-learn 0.21+.\n",
            "  warnings.warn(msg, category=FutureWarning)\n",
            "/usr/local/lib/python3.6/dist-packages/sklearn/base.py:318: UserWarning: Trying to unpickle estimator CountVectorizer from version 0.20.2 when using version 0.22.2.post1. This might lead to breaking code or invalid results. Use at your own risk.\n",
            "  UserWarning)\n",
            "/usr/local/lib/python3.6/dist-packages/sklearn/utils/deprecation.py:144: FutureWarning: The sklearn.svm.classes module is  deprecated in version 0.22 and will be removed in version 0.24. The corresponding classes / functions should instead be imported from sklearn.svm. Anything that cannot be imported from sklearn.svm is now part of the private API.\n",
            "  warnings.warn(message, FutureWarning)\n",
            "/usr/local/lib/python3.6/dist-packages/sklearn/base.py:318: UserWarning: Trying to unpickle estimator LinearSVC from version 0.20.2 when using version 0.22.2.post1. This might lead to breaking code or invalid results. Use at your own risk.\n",
            "  UserWarning)\n",
            "/usr/local/lib/python3.6/dist-packages/sklearn/utils/deprecation.py:144: FutureWarning: The sklearn.preprocessing.label module is  deprecated in version 0.22 and will be removed in version 0.24. The corresponding classes / functions should instead be imported from sklearn.preprocessing. Anything that cannot be imported from sklearn.preprocessing is now part of the private API.\n",
            "  warnings.warn(message, FutureWarning)\n",
            "/usr/local/lib/python3.6/dist-packages/sklearn/base.py:318: UserWarning: Trying to unpickle estimator LabelEncoder from version 0.20.2 when using version 0.22.2.post1. This might lead to breaking code or invalid results. Use at your own risk.\n",
            "  UserWarning)\n",
            "/usr/local/lib/python3.6/dist-packages/sklearn/base.py:318: UserWarning: Trying to unpickle estimator _SigmoidCalibration from version 0.20.2 when using version 0.22.2.post1. This might lead to breaking code or invalid results. Use at your own risk.\n",
            "  UserWarning)\n",
            "/usr/local/lib/python3.6/dist-packages/sklearn/base.py:318: UserWarning: Trying to unpickle estimator CalibratedClassifierCV from version 0.20.2 when using version 0.22.2.post1. This might lead to breaking code or invalid results. Use at your own risk.\n",
            "  UserWarning)\n"
          ],
          "name": "stderr"
        },
        {
          "output_type": "stream",
          "text": [
            "[nltk_data] Downloading package vader_lexicon to /root/nltk_data...\n",
            "[nltk_data]   Package vader_lexicon is already up-to-date!\n"
          ],
          "name": "stdout"
        },
        {
          "output_type": "stream",
          "text": [
            "/usr/local/lib/python3.6/dist-packages/nltk/twitter/__init__.py:20: UserWarning: The twython library has not been installed. Some functionality from the twitter package will not be available.\n",
            "  warnings.warn(\"The twython library has not been installed. \"\n"
          ],
          "name": "stderr"
        }
      ]
    },
    {
      "cell_type": "code",
      "metadata": {
        "id": "vEBbRWoZJTP-"
      },
      "source": [
        "def valid_user(str):\n",
        "  if len(str.split(' ')) < 5 and not 'left' in str and not 'added' in str and not 'removed' in str:\n",
        "    return True\n",
        "  elif '+91' in str and len(str.split(' ')) <= 3:\n",
        "    return True\n",
        "  return False"
      ],
      "execution_count": null,
      "outputs": []
    },
    {
      "cell_type": "code",
      "metadata": {
        "id": "GQHn5DVnJs3y"
      },
      "source": [
        "def vali_date(text):\n",
        "    try:\n",
        "        datetime.datetime.strptime(text, '%m/%d/%y')\n",
        "        return True\n",
        "    except Exception as e:\n",
        "      return False"
      ],
      "execution_count": null,
      "outputs": []
    },
    {
      "cell_type": "code",
      "metadata": {
        "id": "tZTPkDgNKlll"
      },
      "source": [
        "lines = []\n",
        "with open('/content/drive/MyDrive/WhatsApp Chat with DSU Gaming.txt') as f:\n",
        "  for line in f:\n",
        "    if vali_date(line.split(',')[0]):\n",
        "      lines.append(line.strip('\\n'))\n",
        "    else:\n",
        "      lines[len(lines) - 1] += ' ' + line.strip('\\n')"
      ],
      "execution_count": null,
      "outputs": []
    },
    {
      "cell_type": "code",
      "metadata": {
        "colab": {
          "base_uri": "https://localhost:8080/"
        },
        "id": "mdP7-LWW7tgx",
        "outputId": "8b382555-6ded-4bcf-fd27-960b0b400895"
      },
      "source": [
        "from google.colab import drive\n",
        "drive.mount('/content/drive')"
      ],
      "execution_count": null,
      "outputs": [
        {
          "output_type": "stream",
          "text": [
            "Drive already mounted at /content/drive; to attempt to forcibly remount, call drive.mount(\"/content/drive\", force_remount=True).\n"
          ],
          "name": "stdout"
        }
      ]
    },
    {
      "cell_type": "code",
      "metadata": {
        "id": "o0ne15Rvp0Wu"
      },
      "source": [
        ""
      ],
      "execution_count": null,
      "outputs": []
    },
    {
      "cell_type": "code",
      "metadata": {
        "id": "Wg0uNHqJUslA"
      },
      "source": [
        "datetimes, names, msgs = ([] for i in range(3))\n"
      ],
      "execution_count": null,
      "outputs": []
    },
    {
      "cell_type": "code",
      "metadata": {
        "colab": {
          "base_uri": "https://localhost:8080/",
          "height": 66,
          "referenced_widgets": [
            "f891400fe63d4dc6bab9cbb66968795b",
            "943394b1799140409d9a65191192e16b",
            "323e448f300f470d81378afcb93763a2",
            "07378ec1bb504c02a1401ea99a10bbb3",
            "467d381943b940edac429b3161bf9e96",
            "d9295bad924e4d839d7d35614f74c0ba",
            "d0b467c826c8489086f823cea53cad46",
            "052eacbc0f194739a62b8e300e40c766"
          ]
        },
        "id": "rtGCYxSDNduy",
        "outputId": "ea224167-811c-4825-e21b-f070193a12b9"
      },
      "source": [
        "for line in tqdm_notebook(lines, total = len(lines), unit = 'line'):\n",
        "    datetimes.append(datetime.datetime.strptime(line.split('-')[0], '%m/%d/%y, %H:%M '))\n",
        "    names.append(line.split('-')[1].split(':')[0].strip())\n",
        "    msgs.append(''.join(line.split('-')[1].split(':')[1:]))"
      ],
      "execution_count": null,
      "outputs": [
        {
          "output_type": "display_data",
          "data": {
            "application/vnd.jupyter.widget-view+json": {
              "model_id": "f891400fe63d4dc6bab9cbb66968795b",
              "version_minor": 0,
              "version_major": 2
            },
            "text/plain": [
              "HBox(children=(FloatProgress(value=0.0, max=31321.0), HTML(value='')))"
            ]
          },
          "metadata": {
            "tags": []
          }
        },
        {
          "output_type": "stream",
          "text": [
            "\n"
          ],
          "name": "stdout"
        }
      ]
    },
    {
      "cell_type": "code",
      "metadata": {
        "id": "dJyE6PHbqbWm"
      },
      "source": [
        "# for i in range(len(names)):\n",
        "#   name = names[i]\n",
        "#   if \"+1\" in name:\n",
        "#     if \"284\" in name:\n",
        "#       name = \"+1 470 284 5516\"\n",
        "#       names[i] = name\n",
        "#     elif \"602\" in name:\n",
        "#       name = \"+1 615 602 8506\"\n",
        "#       names[i] = names\n",
        "#     elif \"810\" in name:    \n",
        "#       name = \"+1 615 810 2627\"\n",
        "#       names[i] = name"
      ],
      "execution_count": null,
      "outputs": []
    },
    {
      "cell_type": "code",
      "metadata": {
        "id": "JFx7OIJgQ3an",
        "colab": {
          "base_uri": "https://localhost:8080/",
          "height": 66,
          "referenced_widgets": [
            "6269c06bd4db4549b6dd0cefa03a20a3",
            "dd4cebca67e04666bd49e374dcb822ae",
            "7e39afcdd9784fe48dc48820dfae4e59",
            "11e7deacbeac4f85bd24eaa3c44c3b0a",
            "431b7599461a4c7d9ddad11668fa75f5",
            "b6b4eeaaa0ab454e85adadeff4e62358",
            "b55bbf2d81e14429a3da9642b1346bf7",
            "9d0ad08f53774d38bb194e021d77d23f"
          ]
        },
        "outputId": "d008876f-c36d-4545-c597-abcfdf7f0198"
      },
      "source": [
        "df = pd.DataFrame()\n",
        "df['datetime'] = datetimes\n",
        "df['name'] = names\n",
        "df['msg'] = msgsdatetimes, names, msgs = ([] for i in range(3))\n",
        "for line in tqdm_notebook(lines, total = len(lines), unit = 'line'):\n",
        "    datetimes.append(datetime.datetime.strptime(line.split('-')[0], '%m/%d/%y, %H:%M '))\n",
        "    names.append(line.split('-')[1].split(':')[0].strip())\n",
        "    msgs.append(''.join(line.split('-')[1].split(':')[1:]))"
      ],
      "execution_count": null,
      "outputs": [
        {
          "output_type": "display_data",
          "data": {
            "application/vnd.jupyter.widget-view+json": {
              "model_id": "6269c06bd4db4549b6dd0cefa03a20a3",
              "version_minor": 0,
              "version_major": 2
            },
            "text/plain": [
              "HBox(children=(FloatProgress(value=0.0, max=31321.0), HTML(value='')))"
            ]
          },
          "metadata": {
            "tags": []
          }
        },
        {
          "output_type": "stream",
          "text": [
            "\n"
          ],
          "name": "stdout"
        }
      ]
    },
    {
      "cell_type": "code",
      "metadata": {
        "id": "nwVKam8Ii6PQ"
      },
      "source": [
        "def valid_user(str):\n",
        "  if len(str.split(' ')) < 5 and not 'left' in str and not 'added' in str and not 'removed' in str and not 'admin' in str:\n",
        "    return True\n",
        "  elif '+91' in str and len(str.split(' ')) <= 3:\n",
        "    return True\n",
        "  return False"
      ],
      "execution_count": null,
      "outputs": []
    },
    {
      "cell_type": "code",
      "metadata": {
        "id": "SEzITFBobt7m",
        "colab": {
          "base_uri": "https://localhost:8080/"
        },
        "outputId": "bb5bf9b4-958f-4c79-e176-ea902074661d"
      },
      "source": [
        "df = df[df['name'].apply(valid_user)]\n",
        "df.loc[(df.name == '<redacted>'), 'name'] = 'MM' \n",
        "df.loc[(df.name == '<redacted>'), 'name'] = 'MM' \n",
        "df.loc[(df.name == '<redacted>'), 'name'] = 'SD' \n",
        "df.loc[(df.name == '<redacted>'), 'name'] = 'BA'\n",
        "df.loc[(df.name == '<redacted>'), 'name'] = 'RF'\n",
        "df.loc[(df.name == '<redacted>'), 'name'] = 'SJ'\n",
        "df.loc[(df.name == '<redacted>'), 'name'] = 'GJ'\n",
        "df.loc[(df.name == '<redacted>'), 'name'] = 'BD'\n",
        "df.loc[(df.name == '<redacted>'), 'name'] = 'SM'\n",
        "df = df[df['name'] != '<redacted>']\n",
        "df['name'].unique()"
      ],
      "execution_count": null,
      "outputs": [
        {
          "output_type": "execute_result",
          "data": {
            "text/plain": [
              "array(['SilentGhost+', '+233 55 521 4548', '+233 24 196 4653',\n",
              "       '+233 54 395 5735', '+233 27 679 6992', '+233 50 498 5975',\n",
              "       '+233 20 302 4948', '+233 55 728 4617', '+233 55 507 5023',\n",
              "       '+233 57 351 8383', '+233 26 421 6357', '+233 20 915 2812',\n",
              "       '+233 54 851 0518', '+1 (615) 602', '+1 (470) 284',\n",
              "       '+233 26 381 9011', '+233 54 621 7039', '+233 55 564 1594',\n",
              "       '+233 24 936 6341', '+233 54 334 4904', '+44 7756 390937', 'Pyro',\n",
              "       '+233 20 052 6969', '+233 24 829 1780', '+233 20 523 4042',\n",
              "       '+233 54 345 0089', '+233 55 314 0472', '+233 26 911 3065',\n",
              "       '+233 20 203 7373', '+233 55 630 9247', '+233 24 120 5516',\n",
              "       'PopeOfDeath+', '+233 54 500 7952', '+233 50 114 8627',\n",
              "       '+233 24 422 0425', '+233 57 615 9749', '+233 20 298 9873',\n",
              "       '+44 7378 552558', '+233 24 128 8942', 'Steven AR',\n",
              "       '+233 26 740 7269', '+233 50 008 7937', '+1 (615) 810',\n",
              "       '+44 7411 440030', '+233 20 152 2502', '+233 55 459 7481',\n",
              "       '+233 20 854 1630', '+233 50 419 0070', '+233 24 743 8422',\n",
              "       '+233 55 833 6964', '+233 50 954 6461', '+233 20 182 4503',\n",
              "       '+233 24 408 0870', '+233 20 710 7634', '+233 26 758 1764',\n",
              "       '+233 27 965 8748', '+233 20 242 3067', '+233 54 547 2821',\n",
              "       '+233 50 955 5018', '+233 56 092 8005', '+233 50 000 7254',\n",
              "       '+233 24 479 6032', '+233 26 788 2504', '+233 24 640 1492',\n",
              "       '+233 23 968 6217', '+233 55 464 2171', '+233 57 190 8342',\n",
              "       '+233 20 674 4429', '+233 24 567 6259', '+233 54 198 4969',\n",
              "       '+233 20 542 8043', '+233 54 545 4504'], dtype=object)"
            ]
          },
          "metadata": {
            "tags": []
          },
          "execution_count": 12
        }
      ]
    },
    {
      "cell_type": "code",
      "metadata": {
        "id": "7nO0PCAdRNuR",
        "colab": {
          "base_uri": "https://localhost:8080/"
        },
        "outputId": "6fc0fad5-b988-4ff3-c531-8bdbc2e1b609"
      },
      "source": [
        "df['date'] = df['datetime'].apply(lambda x: x.date())\n",
        "df['day_sent'] = df['datetime'].dt.strftime('%a')\n",
        "df['month_sent'] = df['datetime'].dt.strftime('%b')\n",
        "df['year_sent'] = df['datetime'].dt.year\n",
        "df['count'] = 1 # To groupby days and have a count of how many messages were sent per day\n",
        "df = df[~df['msg'].apply(lambda x: True if '\\xa0' in x else False)] # To remove characters with '\\xa0'\n",
        "print(df.shape)"
      ],
      "execution_count": null,
      "outputs": [
        {
          "output_type": "stream",
          "text": [
            "(31276, 8)\n"
          ],
          "name": "stdout"
        }
      ]
    },
    {
      "cell_type": "code",
      "metadata": {
        "id": "WyhPqjA-nIHj"
      },
      "source": [
        "lines = []\n",
        "with open('/content/drive/MyDrive/WhatsApp Chat with DSU Gaming.txt') as f:\n",
        "  for line in f:\n",
        "    if vali_date(line.split(',')[0]):\n",
        "      lines.append(line.strip('\\n'))\n",
        "    else:\n",
        "      lines[len(lines) - 1] += ' ' + line.strip('\\n')"
      ],
      "execution_count": null,
      "outputs": []
    },
    {
      "cell_type": "code",
      "metadata": {
        "id": "4iGC_Dx3nK9D",
        "colab": {
          "base_uri": "https://localhost:8080/",
          "height": 66,
          "referenced_widgets": [
            "b479d8b2efb446a4ae30bd51c820b558",
            "210b38602aba48bea235a35f6704d503",
            "619c09e5d1e24069a398f907d0bc5771",
            "5e407a87dfbf450eb6e48c486b817056",
            "ff08f3ee7a434c339344fa01f1d46846",
            "0b4b5f17953345e294af131f52ecfe6e",
            "785387372d94474eac3dbe52f6a6ed4a",
            "875ab5089e244202b48a70ebde9e920c"
          ]
        },
        "outputId": "a86e6756-22ff-4584-b70c-e0aaefc3610d"
      },
      "source": [
        "datetimes, names, msgs = ([] for i in range(3))\n",
        "for line in tqdm_notebook(lines, total = len(lines), unit = 'line'):\n",
        "    datetimes.append(datetime.datetime.strptime(line.split('-')[0], '%m/%d/%y, %H:%M '))\n",
        "    names.append(line.split('-')[1].split(':')[0].strip())\n",
        "    msgs.append(''.join(line.split('-')[1].split(':')[1:]))"
      ],
      "execution_count": null,
      "outputs": [
        {
          "output_type": "display_data",
          "data": {
            "application/vnd.jupyter.widget-view+json": {
              "model_id": "b479d8b2efb446a4ae30bd51c820b558",
              "version_minor": 0,
              "version_major": 2
            },
            "text/plain": [
              "HBox(children=(FloatProgress(value=0.0, max=31321.0), HTML(value='')))"
            ]
          },
          "metadata": {
            "tags": []
          }
        },
        {
          "output_type": "stream",
          "text": [
            "\n"
          ],
          "name": "stdout"
        }
      ]
    },
    {
      "cell_type": "code",
      "metadata": {
        "id": "BYXkfjTr_D5A"
      },
      "source": [
        "df2 = pd.DataFrame()\n",
        "df2['datetime'] = datetimes\n",
        "df2['name'] = names\n",
        "df2['msg'] = msgs"
      ],
      "execution_count": null,
      "outputs": []
    },
    {
      "cell_type": "code",
      "metadata": {
        "colab": {
          "base_uri": "https://localhost:8080/"
        },
        "id": "A9O1n6sP_HPt",
        "outputId": "fbf7a70d-a62a-4a81-b856-1d00f9efde48"
      },
      "source": [
        "df2 = df2[df2['name'].apply(valid_user)]\n",
        "df2.loc[(df2.name == '<redacted>'), 'name'] = 'MM' \n",
        "df2.loc[(df2.name == '<redacted>'), 'name'] = 'SD' \n",
        "df2.loc[(df2.name == '<redacted>'), 'name'] = 'BA'\n",
        "df2.loc[(df2.name == '<redacted>'), 'name'] = 'RF'\n",
        "df2.loc[(df2.name == '<redacted>'), 'name'] = 'SJ'\n",
        "df2.loc[(df2.name == '<redacted>'), 'name'] = 'GJ'\n",
        "df2.loc[(df2.name == '<redacted>'), 'name'] = 'BD'\n",
        "df2.loc[(df2.name == '<redacted>'), 'name'] = 'SM'\n",
        "df2 = df2[df2['name'] != '<redacted>']\n",
        "df2['name'].unique()"
      ],
      "execution_count": null,
      "outputs": [
        {
          "output_type": "execute_result",
          "data": {
            "text/plain": [
              "array(['SilentGhost+', '+233 55 521 4548', '+233 24 196 4653',\n",
              "       '+233 54 395 5735', '+233 27 679 6992', '+233 50 498 5975',\n",
              "       '+233 20 302 4948', '+233 55 728 4617', '+233 55 507 5023',\n",
              "       '+233 57 351 8383', '+233 26 421 6357', '+233 20 915 2812',\n",
              "       '+233 54 851 0518', '+1 (615) 602', '+1 (470) 284',\n",
              "       '+233 26 381 9011', '+233 54 621 7039', '+233 55 564 1594',\n",
              "       '+233 24 936 6341', '+233 54 334 4904', '+44 7756 390937', 'Pyro',\n",
              "       '+233 20 052 6969', '+233 24 829 1780', '+233 20 523 4042',\n",
              "       '+233 54 345 0089', '+233 55 314 0472', '+233 26 911 3065',\n",
              "       '+233 20 203 7373', '+233 55 630 9247', '+233 24 120 5516',\n",
              "       'PopeOfDeath+', '+233 54 500 7952', '+233 50 114 8627',\n",
              "       '+233 24 422 0425', '+233 57 615 9749', '+233 20 298 9873',\n",
              "       '+44 7378 552558', '+233 24 128 8942', 'Steven AR',\n",
              "       '+233 26 740 7269', '+233 50 008 7937', '+1 (615) 810',\n",
              "       '+44 7411 440030', '+233 20 152 2502', '+233 55 459 7481',\n",
              "       '+233 20 854 1630', '+233 50 419 0070', '+233 24 743 8422',\n",
              "       '+233 55 833 6964', '+233 50 954 6461', '+233 20 182 4503',\n",
              "       '+233 24 408 0870', '+233 20 710 7634', '+233 26 758 1764',\n",
              "       '+233 27 965 8748', '+233 20 242 3067', '+233 54 547 2821',\n",
              "       '+233 50 955 5018', '+233 56 092 8005', '+233 50 000 7254',\n",
              "       '+233 24 479 6032', '+233 26 788 2504', '+233 24 640 1492',\n",
              "       '+233 23 968 6217', '+233 55 464 2171', '+233 57 190 8342',\n",
              "       '+233 20 674 4429', '+233 24 567 6259', '+233 54 198 4969',\n",
              "       '+233 20 542 8043', '+233 54 545 4504'], dtype=object)"
            ]
          },
          "metadata": {
            "tags": []
          },
          "execution_count": 17
        }
      ]
    },
    {
      "cell_type": "code",
      "metadata": {
        "colab": {
          "base_uri": "https://localhost:8080/"
        },
        "id": "GiW2V0Vm_LLa",
        "outputId": "732ba9d6-acd6-406d-aaf0-75cec6d3984e"
      },
      "source": [
        "df2['day_sent'] = df2['datetime'].dt.strftime('%a')\n",
        "df2['month_sent'] = df2['datetime'].dt.strftime('%b')\n",
        "df2['year_sent'] = df2['datetime'].dt.year\n",
        "df2['date'] = df2['datetime'].apply(lambda x: x.date())\n",
        "df2['count'] = 1 # To groupby days and have a count of how many messages were sent per day\n",
        "df2 = df2[~df2['msg'].apply(lambda x: True if '\\xa0' in x else False)] # To remove characters with '\\xa0'\n",
        "print(df2.shape)"
      ],
      "execution_count": null,
      "outputs": [
        {
          "output_type": "stream",
          "text": [
            "(31276, 8)\n"
          ],
          "name": "stdout"
        }
      ]
    },
    {
      "cell_type": "code",
      "metadata": {
        "colab": {
          "base_uri": "https://localhost:8080/",
          "height": 221
        },
        "id": "jS_GqIZV_OQV",
        "outputId": "887e79e3-4979-4db8-b2d9-81afcdd362af"
      },
      "source": [
        "df = pd.concat([df, df2]).drop_duplicates().reset_index(drop = True)\n",
        "df = df.sort_values(by = 'datetime')\n",
        "print(df.shape)\n",
        "df.head()"
      ],
      "execution_count": null,
      "outputs": [
        {
          "output_type": "stream",
          "text": [
            "(49858, 8)\n"
          ],
          "name": "stdout"
        },
        {
          "output_type": "execute_result",
          "data": {
            "text/html": [
              "<div>\n",
              "<style scoped>\n",
              "    .dataframe tbody tr th:only-of-type {\n",
              "        vertical-align: middle;\n",
              "    }\n",
              "\n",
              "    .dataframe tbody tr th {\n",
              "        vertical-align: top;\n",
              "    }\n",
              "\n",
              "    .dataframe thead th {\n",
              "        text-align: right;\n",
              "    }\n",
              "</style>\n",
              "<table border=\"1\" class=\"dataframe\">\n",
              "  <thead>\n",
              "    <tr style=\"text-align: right;\">\n",
              "      <th></th>\n",
              "      <th>datetime</th>\n",
              "      <th>name</th>\n",
              "      <th>msg</th>\n",
              "      <th>date</th>\n",
              "      <th>day_sent</th>\n",
              "      <th>month_sent</th>\n",
              "      <th>year_sent</th>\n",
              "      <th>count</th>\n",
              "    </tr>\n",
              "  </thead>\n",
              "  <tbody>\n",
              "    <tr>\n",
              "      <th>0</th>\n",
              "      <td>2020-11-17 10:16:00</td>\n",
              "      <td>SilentGhost+</td>\n",
              "      <td>&lt;generator object &lt;genexpr&gt; at 0x7ff04f2d13b8&gt;</td>\n",
              "      <td>2020-11-17</td>\n",
              "      <td>Tue</td>\n",
              "      <td>Nov</td>\n",
              "      <td>2020</td>\n",
              "      <td>1</td>\n",
              "    </tr>\n",
              "    <tr>\n",
              "      <th>19538</th>\n",
              "      <td>2020-11-17 10:16:00</td>\n",
              "      <td>+233 55 521 4548</td>\n",
              "      <td>Ayeduase access bank</td>\n",
              "      <td>2020-11-17</td>\n",
              "      <td>Tue</td>\n",
              "      <td>Nov</td>\n",
              "      <td>2020</td>\n",
              "      <td>1</td>\n",
              "    </tr>\n",
              "    <tr>\n",
              "      <th>19539</th>\n",
              "      <td>2020-11-17 10:16:00</td>\n",
              "      <td>+233 55 521 4548</td>\n",
              "      <td>Ano know o😂😂</td>\n",
              "      <td>2020-11-17</td>\n",
              "      <td>Tue</td>\n",
              "      <td>Nov</td>\n",
              "      <td>2020</td>\n",
              "      <td>1</td>\n",
              "    </tr>\n",
              "    <tr>\n",
              "      <th>19540</th>\n",
              "      <td>2020-11-17 10:16:00</td>\n",
              "      <td>+233 24 196 4653</td>\n",
              "      <td>But the thing be say cant they be jumping int...</td>\n",
              "      <td>2020-11-17</td>\n",
              "      <td>Tue</td>\n",
              "      <td>Nov</td>\n",
              "      <td>2020</td>\n",
              "      <td>1</td>\n",
              "    </tr>\n",
              "    <tr>\n",
              "      <th>19537</th>\n",
              "      <td>2020-11-17 10:16:00</td>\n",
              "      <td>SilentGhost+</td>\n",
              "      <td>Ayeduase dey where?</td>\n",
              "      <td>2020-11-17</td>\n",
              "      <td>Tue</td>\n",
              "      <td>Nov</td>\n",
              "      <td>2020</td>\n",
              "      <td>1</td>\n",
              "    </tr>\n",
              "  </tbody>\n",
              "</table>\n",
              "</div>"
            ],
            "text/plain": [
              "                 datetime              name  ... year_sent count\n",
              "0     2020-11-17 10:16:00      SilentGhost+  ...      2020     1\n",
              "19538 2020-11-17 10:16:00  +233 55 521 4548  ...      2020     1\n",
              "19539 2020-11-17 10:16:00  +233 55 521 4548  ...      2020     1\n",
              "19540 2020-11-17 10:16:00  +233 24 196 4653  ...      2020     1\n",
              "19537 2020-11-17 10:16:00      SilentGhost+  ...      2020     1\n",
              "\n",
              "[5 rows x 8 columns]"
            ]
          },
          "metadata": {
            "tags": []
          },
          "execution_count": 19
        }
      ]
    },
    {
      "cell_type": "code",
      "metadata": {
        "colab": {
          "base_uri": "https://localhost:8080/",
          "height": 336
        },
        "id": "FeUimJo8_UQI",
        "outputId": "a52fde43-7d79-414e-fa74-7fb30aa59e26"
      },
      "source": [
        "grouped_by_date = df.groupby('date').sum().reset_index()\n",
        "\n",
        "plt.figure(figsize = (27, 6))\n",
        "sns.lineplot(x = 'date', y = 'count', data = grouped_by_date)\n",
        "plt.title('Messages sent per day over a time period')"
      ],
      "execution_count": null,
      "outputs": [
        {
          "output_type": "execute_result",
          "data": {
            "text/plain": [
              "Text(0.5, 1.0, 'Messages sent per day over a time period')"
            ]
          },
          "metadata": {
            "tags": []
          },
          "execution_count": 20
        },
        {
          "output_type": "display_data",
          "data": {
            "image/png": "[encoded data removed]",
            "text/plain": [
              "<Figure size 1944x432 with 1 Axes>"
            ]
          },
          "metadata": {
            "tags": [],
            "needs_background": "light"
          }
        }
      ]
    },
    {
      "cell_type": "code",
      "metadata": {
        "id": "RgE_PIbv_ft4"
      },
      "source": [
        "def get_colors_of_certain_order(names_in_certain_order):\n",
        "  order = list(names_in_certain_order)\n",
        "  return_list = []\n",
        "  for name in order:\n",
        "    return_list.append(color_dict[name])\n",
        "  return return_list\n",
        "  print(return_list)"
      ],
      "execution_count": null,
      "outputs": []
    },
    {
      "cell_type": "code",
      "metadata": {
        "colab": {
          "base_uri": "https://localhost:8080/",
          "height": 1000
        },
        "id": "EZaRG5SG_jv4",
        "outputId": "b9b06a21-b6c7-42d2-bac4-b5f4605e4174"
      },
      "source": [
        "color_dict = {}\n",
        "colors = ['#F94144', '#F3722C', '#F8961E', '#F9C74F', '#90BE6D', '#43AA8B', '#577590', '#6D597A','#F94144', '#F3722C', '#F8961E', '#F9C74F', '#90BE6D', '#43AA8B', '#577590', '#6D597A',\n",
        "          '#F94144', '#F3722C', '#F8961E', '#F9C74F', '#90BE6D', '#43AA8B', '#577590', '#6D597A',\n",
        "          '#F94144', '#F3722C', '#F8961E', '#F9C74F', '#90BE6D', '#43AA8B', '#577590', '#6D597A',\n",
        "          '#F94144', '#F3722C', '#F8961E', '#F9C74F', '#90BE6D', '#43AA8B', '#577590', '#6D597A',\n",
        "          '#F94144', '#F3722C', '#F8961E', '#F9C74F', '#90BE6D', '#43AA8B', '#577590', '#6D597A',\n",
        "          '#F94144', '#F3722C', '#F8961E', '#F9C74F', '#90BE6D', '#43AA8B', '#577590', '#6D597A',\n",
        "          '#F94144', '#F3722C', '#F8961E', '#F9C74F', '#90BE6D', '#43AA8B', '#577590', '#6D597A',\n",
        "          '#F94144', '#F3722C', '#F8961E', '#F9C74F', '#90BE6D', '#43AA8B', '#577590', '#6D597A',\n",
        "          '#F94144', '#F3722C', '#F8961E', '#F9C74F', '#90BE6D', '#43AA8B', '#577590', '#6D597A',\n",
        "          '#F94144', '#F3722C', '#F8961E', '#F9C74F', '#90BE6D', '#43AA8B', '#577590', '#6D597A',\n",
        "          '#F94144', '#F3722C', '#F8961E', '#F9C74F', '#90BE6D', '#43AA8B', '#577590', '#6D597A',\n",
        "          '#F94144', '#F3722C', '#F8961E', '#F9C74F', '#90BE6D', '#43AA8B', '#577590', '#6D597A',\n",
        "          '#F94144', '#F3722C', '#F8961E', '#F9C74F', '#90BE6D', '#43AA8B', '#577590', '#6D597A',\n",
        "          '#F94144', '#F3722C', '#F8961E', '#F9C74F', '#90BE6D', '#43AA8B', '#577590', '#6D597A',\n",
        "          '#F94144', '#F3722C', '#F8961E', '#F9C74F', '#90BE6D', '#43AA8B', '#577590', '#6D597A']\n",
        "sns.palplot(colors)\n",
        "names = df['name'].unique()\n",
        "\n",
        "for name, color in zip(names, colors):\n",
        "  color_dict[name] = color\n",
        "\n",
        "color_dict"
      ],
      "execution_count": null,
      "outputs": [
        {
          "output_type": "execute_result",
          "data": {
            "text/plain": [
              "{'+1 (470) 284': '#577590',\n",
              " '+1 (615) 602': '#43AA8B',\n",
              " '+1 (615) 810': '#F8961E',\n",
              " '+233 20 052 6969': '#577590',\n",
              " '+233 20 152 2502': '#90BE6D',\n",
              " '+233 20 182 4503': '#F9C74F',\n",
              " '+233 20 203 7373': '#90BE6D',\n",
              " '+233 20 242 3067': '#F94144',\n",
              " '+233 20 298 9873': '#90BE6D',\n",
              " '+233 20 302 4948': '#577590',\n",
              " '+233 20 523 4042': '#F94144',\n",
              " '+233 20 542 8043': '#577590',\n",
              " '+233 20 674 4429': '#F9C74F',\n",
              " '+233 20 710 7634': '#43AA8B',\n",
              " '+233 20 854 1630': '#577590',\n",
              " '+233 20 915 2812': '#F9C74F',\n",
              " '+233 23 968 6217': '#F94144',\n",
              " '+233 24 120 5516': '#577590',\n",
              " '+233 24 128 8942': '#577590',\n",
              " '+233 24 196 4653': '#F8961E',\n",
              " '+233 24 408 0870': '#90BE6D',\n",
              " '+233 24 422 0425': '#F8961E',\n",
              " '+233 24 479 6032': '#43AA8B',\n",
              " '+233 24 567 6259': '#90BE6D',\n",
              " '+233 24 640 1492': '#6D597A',\n",
              " '+233 24 743 8422': '#F94144',\n",
              " '+233 24 829 1780': '#6D597A',\n",
              " '+233 24 936 6341': '#F8961E',\n",
              " '+233 26 381 9011': '#6D597A',\n",
              " '+233 26 421 6357': '#F8961E',\n",
              " '+233 26 740 7269': '#F94144',\n",
              " '+233 26 758 1764': '#577590',\n",
              " '+233 26 788 2504': '#577590',\n",
              " '+233 26 911 3065': '#F9C74F',\n",
              " '+233 27 679 6992': '#90BE6D',\n",
              " '+233 27 965 8748': '#6D597A',\n",
              " '+233 50 000 7254': '#90BE6D',\n",
              " '+233 50 008 7937': '#F3722C',\n",
              " '+233 50 114 8627': '#F3722C',\n",
              " '+233 50 419 0070': '#6D597A',\n",
              " '+233 50 498 5975': '#43AA8B',\n",
              " '+233 50 954 6461': '#F8961E',\n",
              " '+233 50 955 5018': '#F8961E',\n",
              " '+233 54 198 4969': '#43AA8B',\n",
              " '+233 54 334 4904': '#F9C74F',\n",
              " '+233 54 345 0089': '#F3722C',\n",
              " '+233 54 395 5735': '#F9C74F',\n",
              " '+233 54 500 7952': '#F94144',\n",
              " '+233 54 545 4504': '#6D597A',\n",
              " '+233 54 547 2821': '#F3722C',\n",
              " '+233 54 621 7039': '#F94144',\n",
              " '+233 54 851 0518': '#90BE6D',\n",
              " '+233 55 314 0472': '#F8961E',\n",
              " '+233 55 459 7481': '#43AA8B',\n",
              " '+233 55 464 2171': '#F3722C',\n",
              " '+233 55 507 5023': '#F94144',\n",
              " '+233 55 521 4548': '#F3722C',\n",
              " '+233 55 564 1594': '#F3722C',\n",
              " '+233 55 630 9247': '#43AA8B',\n",
              " '+233 55 728 4617': '#6D597A',\n",
              " '+233 55 833 6964': '#F3722C',\n",
              " '+233 56 092 8005': '#F9C74F',\n",
              " '+233 57 190 8342': '#F8961E',\n",
              " '+233 57 351 8383': '#F3722C',\n",
              " '+233 57 615 9749': '#F9C74F',\n",
              " '+44 7378 552558': '#43AA8B',\n",
              " '+44 7411 440030': '#F9C74F',\n",
              " '+44 7756 390937': '#90BE6D',\n",
              " 'PopeOfDeath+': '#6D597A',\n",
              " 'Pyro': '#43AA8B',\n",
              " 'SilentGhost+': '#F94144',\n",
              " 'Steven AR': '#6D597A'}"
            ]
          },
          "metadata": {
            "tags": []
          },
          "execution_count": 22
        },
        {
          "output_type": "display_data",
          "data": {
            "image/png": "[encoded data removed]",
            "text/plain": [
              "<Figure size 9216x72 with 1 Axes>"
            ]
          },
          "metadata": {
            "tags": [],
            "needs_background": "light"
          }
        }
      ]
    },
    {
      "cell_type": "code",
      "metadata": {
        "colab": {
          "base_uri": "https://localhost:8080/",
          "height": 378
        },
        "id": "OI7Zeu-H_nCD",
        "outputId": "31855120-1048-4cca-a166-a1c4d44cb918"
      },
      "source": [
        "fig, axs = plt.subplots(ncols = 2, figsize = (16, 6))"
      ],
      "execution_count": null,
      "outputs": [
        {
          "output_type": "display_data",
          "data": {
            "image/png": "[encoded data removed]",
            "text/plain": [
              "<Figure size 1152x432 with 2 Axes>"
            ]
          },
          "metadata": {
            "tags": [],
            "needs_background": "light"
          }
        }
      ]
    },
    {
      "cell_type": "code",
      "metadata": {
        "colab": {
          "base_uri": "https://localhost:8080/"
        },
        "id": "smIixl4L_yE2",
        "outputId": "0130b48c-64a5-4748-bbd0-d0ec61770cff"
      },
      "source": [
        "sns.countplot(x = 'name', data = df, order = df['name'].value_counts().index, ax = axs[0], palette = get_colors_of_certain_order(df['name'].value_counts().index))"
      ],
      "execution_count": null,
      "outputs": [
        {
          "output_type": "execute_result",
          "data": {
            "text/plain": [
              "<matplotlib.axes._subplots.AxesSubplot at 0x7ff04d9182e8>"
            ]
          },
          "metadata": {
            "tags": []
          },
          "execution_count": 24
        }
      ]
    },
    {
      "cell_type": "code",
      "metadata": {
        "colab": {
          "base_uri": "https://localhost:8080/"
        },
        "id": "VmXMHBVs_6fK",
        "outputId": "f4c22800-d7be-48a3-c66a-fa7ba55ba632"
      },
      "source": [
        "axs[0].set_title('Total Messages Sent')"
      ],
      "execution_count": null,
      "outputs": [
        {
          "output_type": "execute_result",
          "data": {
            "text/plain": [
              "Text(0.5, 1.0, 'Total Messages Sent')"
            ]
          },
          "metadata": {
            "tags": []
          },
          "execution_count": 25
        }
      ]
    },
    {
      "cell_type": "code",
      "metadata": {
        "colab": {
          "base_uri": "https://localhost:8080/"
        },
        "id": "rnq66JeSBAb2",
        "outputId": "d6ee8d81-cf12-48d2-cbc8-abd51b4d352a"
      },
      "source": [
        "df['msg_length'] = df['msg'].apply(lambda x: len(list(x)))\n",
        "avg_msg_lengths = df.groupby('name').mean().reset_index().sort_values(by = 'msg_length', ascending = False)\n",
        "sns.barplot(x = 'name', y = 'msg_length', data = avg_msg_lengths, ax = axs[1], palette = get_colors_of_certain_order(avg_msg_lengths['name']))\n",
        "axs[1].set_title('Average Message Lengths')"
      ],
      "execution_count": null,
      "outputs": [
        {
          "output_type": "execute_result",
          "data": {
            "text/plain": [
              "Text(0.5, 1.0, 'Average Message Lengths')"
            ]
          },
          "metadata": {
            "tags": []
          },
          "execution_count": 26
        }
      ]
    },
    {
      "cell_type": "code",
      "metadata": {
        "colab": {
          "base_uri": "https://localhost:8080/",
          "height": 49
        },
        "id": "qSQfesyOBDml",
        "outputId": "e64e83e9-1ba4-44c2-d8dc-cd43d1ee5693"
      },
      "source": [
        "df[df['name'] == 'RF'].sort_values(by = 'msg_length', ascending = False).head(4)"
      ],
      "execution_count": null,
      "outputs": [
        {
          "output_type": "execute_result",
          "data": {
            "text/html": [
              "<div>\n",
              "<style scoped>\n",
              "    .dataframe tbody tr th:only-of-type {\n",
              "        vertical-align: middle;\n",
              "    }\n",
              "\n",
              "    .dataframe tbody tr th {\n",
              "        vertical-align: top;\n",
              "    }\n",
              "\n",
              "    .dataframe thead th {\n",
              "        text-align: right;\n",
              "    }\n",
              "</style>\n",
              "<table border=\"1\" class=\"dataframe\">\n",
              "  <thead>\n",
              "    <tr style=\"text-align: right;\">\n",
              "      <th></th>\n",
              "      <th>datetime</th>\n",
              "      <th>name</th>\n",
              "      <th>msg</th>\n",
              "      <th>date</th>\n",
              "      <th>day_sent</th>\n",
              "      <th>month_sent</th>\n",
              "      <th>year_sent</th>\n",
              "      <th>count</th>\n",
              "      <th>msg_length</th>\n",
              "    </tr>\n",
              "  </thead>\n",
              "  <tbody>\n",
              "  </tbody>\n",
              "</table>\n",
              "</div>"
            ],
            "text/plain": [
              "Empty DataFrame\n",
              "Columns: [datetime, name, msg, date, day_sent, month_sent, year_sent, count, msg_length]\n",
              "Index: []"
            ]
          },
          "metadata": {
            "tags": []
          },
          "execution_count": 27
        }
      ]
    },
    {
      "cell_type": "code",
      "metadata": {
        "colab": {
          "base_uri": "https://localhost:8080/",
          "height": 421
        },
        "id": "9GWKVOVyBTx_",
        "outputId": "10903e84-2684-417e-ee53-98c2cb3967f2"
      },
      "source": [
        "plt.figure(figsize = (8, 6))\n",
        "df['is_media'] = df['msg'].apply(lambda x: 1 if '<Media omitted>' in x else 0)\n",
        "df.groupby('name').sum().reset_index().sort_values(by = 'is_media', ascending = False)[['name', 'is_media']]\n",
        "total_media_count = df.groupby('name').sum().reset_index().sort_values(by = 'is_media', ascending = False)[['name', 'is_media']]\n",
        "sns.barplot(x = 'name', y = 'is_media', data = total_media_count, palette = get_colors_of_certain_order(total_media_count['name']))\n",
        "plt.title('Total Media Sent')"
      ],
      "execution_count": null,
      "outputs": [
        {
          "output_type": "execute_result",
          "data": {
            "text/plain": [
              "Text(0.5, 1.0, 'Total Media Sent')"
            ]
          },
          "metadata": {
            "tags": []
          },
          "execution_count": 28
        },
        {
          "output_type": "display_data",
          "data": {
            "image/png": "[encoded data removed]",
            "text/plain": [
              "<Figure size 576x432 with 1 Axes>"
            ]
          },
          "metadata": {
            "tags": [],
            "needs_background": "light"
          }
        }
      ]
    },
    {
      "cell_type": "code",
      "metadata": {
        "id": "dJqI32CMBeaD"
      },
      "source": [
        "word_dict = dict.fromkeys(df['name'].unique())\n",
        "for key in word_dict.keys():\n",
        "  word_dict[key] = {}"
      ],
      "execution_count": null,
      "outputs": []
    },
    {
      "cell_type": "code",
      "metadata": {
        "id": "pa9pylYJBisW"
      },
      "source": [
        "for name, msg in zip(df['name'], df['msg']):\n",
        "  for word in str(msg).split():\n",
        "    # If word contains the 'media ommited' message ignore\n",
        "    if word not in ['<Media', 'omitted>']: \n",
        "      if word in word_dict[name]:\n",
        "        word_dict[name][word] += 1\n",
        "      else:\n",
        "        word_dict[name][word] = 1"
      ],
      "execution_count": null,
      "outputs": []
    },
    {
      "cell_type": "code",
      "metadata": {
        "id": "_OqCN9ViBlTD"
      },
      "source": [
        "for name in df['name'].unique():\n",
        "  word_dict[name] = {k: v for k, v in sorted(word_dict[name].items(), key = lambda item: item[1], reverse = True)}"
      ],
      "execution_count": null,
      "outputs": []
    },
    {
      "cell_type": "code",
      "metadata": {
        "colab": {
          "base_uri": "https://localhost:8080/",
          "height": 419
        },
        "id": "Ul05I0GDB04E",
        "outputId": "1e54aaf7-7310-4439-8cf3-7425364bdcc1"
      },
      "source": [
        "grouped_df = df.groupby('name').sum().reset_index()\n",
        "grouped_df['most_used_words'] = grouped_df['name'].apply(lambda x: word_dict[x])\n",
        "grouped_df[['name', 'most_used_words']]"
      ],
      "execution_count": null,
      "outputs": [
        {
          "output_type": "execute_result",
          "data": {
            "text/html": [
              "<div>\n",
              "<style scoped>\n",
              "    .dataframe tbody tr th:only-of-type {\n",
              "        vertical-align: middle;\n",
              "    }\n",
              "\n",
              "    .dataframe tbody tr th {\n",
              "        vertical-align: top;\n",
              "    }\n",
              "\n",
              "    .dataframe thead th {\n",
              "        text-align: right;\n",
              "    }\n",
              "</style>\n",
              "<table border=\"1\" class=\"dataframe\">\n",
              "  <thead>\n",
              "    <tr style=\"text-align: right;\">\n",
              "      <th></th>\n",
              "      <th>name</th>\n",
              "      <th>most_used_words</th>\n",
              "    </tr>\n",
              "  </thead>\n",
              "  <tbody>\n",
              "    <tr>\n",
              "      <th>0</th>\n",
              "      <td>+1 (470) 284</td>\n",
              "      <td>{'&lt;generator': 142, 'object': 142, '&lt;genexpr&gt;'...</td>\n",
              "    </tr>\n",
              "    <tr>\n",
              "      <th>1</th>\n",
              "      <td>+1 (615) 602</td>\n",
              "      <td>{'&lt;generator': 284, 'object': 284, '&lt;genexpr&gt;'...</td>\n",
              "    </tr>\n",
              "    <tr>\n",
              "      <th>2</th>\n",
              "      <td>+1 (615) 810</td>\n",
              "      <td>{'&lt;generator': 49, 'object': 49, '&lt;genexpr&gt;': ...</td>\n",
              "    </tr>\n",
              "    <tr>\n",
              "      <th>3</th>\n",
              "      <td>+233 20 052 6969</td>\n",
              "      <td>{'at': 887, '&lt;generator': 883, 'object': 883, ...</td>\n",
              "    </tr>\n",
              "    <tr>\n",
              "      <th>4</th>\n",
              "      <td>+233 20 152 2502</td>\n",
              "      <td>{'&lt;generator': 10, 'object': 10, '&lt;genexpr&gt;': ...</td>\n",
              "    </tr>\n",
              "    <tr>\n",
              "      <th>...</th>\n",
              "      <td>...</td>\n",
              "      <td>...</td>\n",
              "    </tr>\n",
              "    <tr>\n",
              "      <th>67</th>\n",
              "      <td>+44 7756 390937</td>\n",
              "      <td>{'at': 381, '&lt;generator': 379, 'object': 379, ...</td>\n",
              "    </tr>\n",
              "    <tr>\n",
              "      <th>68</th>\n",
              "      <td>PopeOfDeath+</td>\n",
              "      <td>{'at': 1334, '&lt;generator': 1293, 'object': 129...</td>\n",
              "    </tr>\n",
              "    <tr>\n",
              "      <th>69</th>\n",
              "      <td>Pyro</td>\n",
              "      <td>{'at': 134, '&lt;generator': 133, 'object': 133, ...</td>\n",
              "    </tr>\n",
              "    <tr>\n",
              "      <th>70</th>\n",
              "      <td>SilentGhost+</td>\n",
              "      <td>{'at': 3360, '&lt;generator': 3342, 'object': 334...</td>\n",
              "    </tr>\n",
              "    <tr>\n",
              "      <th>71</th>\n",
              "      <td>Steven AR</td>\n",
              "      <td>{'&lt;generator': 34, 'object': 34, '&lt;genexpr&gt;': ...</td>\n",
              "    </tr>\n",
              "  </tbody>\n",
              "</table>\n",
              "<p>72 rows × 2 columns</p>\n",
              "</div>"
            ],
            "text/plain": [
              "                name                                    most_used_words\n",
              "0       +1 (470) 284  {'<generator': 142, 'object': 142, '<genexpr>'...\n",
              "1       +1 (615) 602  {'<generator': 284, 'object': 284, '<genexpr>'...\n",
              "2       +1 (615) 810  {'<generator': 49, 'object': 49, '<genexpr>': ...\n",
              "3   +233 20 052 6969  {'at': 887, '<generator': 883, 'object': 883, ...\n",
              "4   +233 20 152 2502  {'<generator': 10, 'object': 10, '<genexpr>': ...\n",
              "..               ...                                                ...\n",
              "67   +44 7756 390937  {'at': 381, '<generator': 379, 'object': 379, ...\n",
              "68      PopeOfDeath+  {'at': 1334, '<generator': 1293, 'object': 129...\n",
              "69              Pyro  {'at': 134, '<generator': 133, 'object': 133, ...\n",
              "70      SilentGhost+  {'at': 3360, '<generator': 3342, 'object': 334...\n",
              "71         Steven AR  {'<generator': 34, 'object': 34, '<genexpr>': ...\n",
              "\n",
              "[72 rows x 2 columns]"
            ]
          },
          "metadata": {
            "tags": []
          },
          "execution_count": 32
        }
      ]
    },
    {
      "cell_type": "code",
      "metadata": {
        "colab": {
          "base_uri": "https://localhost:8080/",
          "height": 377
        },
        "id": "xOk4RZOoB3Nu",
        "outputId": "25478d67-b433-467d-d792-bbef1ff9bd75"
      },
      "source": [
        "fig, axs = plt.subplots(ncols = 2, figsize = (24, 6))\n",
        "\n",
        "months = ['Jan', 'Feb', 'Mar', 'Apr', 'May', 'Jun', 'Jul', 'Aug', 'Sep', 'Oct', 'Nov', 'Dec']\n",
        "grouped_by_month = df.groupby('month_sent').sum().reset_index().sort_values(by = 'count', ascending = False)\n",
        "sns.barplot(x = 'count', y = 'month_sent', data = grouped_by_month, order = months, ax = axs[0], palette = sns.color_palette('cividis', 12))\n",
        "axs[0].set_title('Total messages sent grouped by month')"
      ],
      "execution_count": null,
      "outputs": [
        {
          "output_type": "execute_result",
          "data": {
            "text/plain": [
              "Text(0.5, 1.0, 'Total messages sent grouped by month')"
            ]
          },
          "metadata": {
            "tags": []
          },
          "execution_count": 33
        },
        {
          "output_type": "display_data",
          "data": {
            "image/png": "[encoded data removed]",
            "text/plain": [
              "<Figure size 1728x432 with 2 Axes>"
            ]
          },
          "metadata": {
            "tags": [],
            "needs_background": "light"
          }
        }
      ]
    },
    {
      "cell_type": "code",
      "metadata": {
        "colab": {
          "base_uri": "https://localhost:8080/"
        },
        "id": "M8OmyIsnB_9n",
        "outputId": "25b5e91f-0d9f-4492-bad2-3ee5ba518bff"
      },
      "source": [
        "days = ['Mon', 'Tue', 'Wed', 'Thu', 'Fri', 'Sat', 'Sun']\n",
        "grouped_by_month_and_day = df.groupby(['month_sent', 'day_sent']).sum().reset_index()[['month_sent', 'day_sent', 'count']]\n",
        "pt = grouped_by_month_and_day.pivot_table(index = 'month_sent', columns = 'day_sent', values = 'count').reindex(index = months, columns = days)\n",
        "sns.heatmap(pt, cmap = 'cividis', ax = axs[1])\n",
        "axs[1].set_title('Heatmap of month sent and day sent')"
      ],
      "execution_count": null,
      "outputs": [
        {
          "output_type": "execute_result",
          "data": {
            "text/plain": [
              "Text(0.5, 1.0, 'Heatmap of month sent and day sent')"
            ]
          },
          "metadata": {
            "tags": []
          },
          "execution_count": 34
        }
      ]
    },
    {
      "cell_type": "code",
      "metadata": {
        "colab": {
          "base_uri": "https://localhost:8080/",
          "height": 377
        },
        "id": "PeGJFUXKCIe5",
        "outputId": "220cf55e-8cf6-4a5e-8005-d9ce7a93ce2f"
      },
      "source": [
        "fig, axs = plt.subplots(ncols = 2, figsize = (24, 6))\n",
        "\n",
        "grouped_by_day = df.groupby('day_sent').sum().reset_index()[['day_sent', 'count']]\n",
        "sns.barplot(y = 'count', x = 'day_sent', data = grouped_by_day, order = days, ax = axs[0])\n",
        "axs[0].set_title('Total messages sent grouped by day')"
      ],
      "execution_count": null,
      "outputs": [
        {
          "output_type": "execute_result",
          "data": {
            "text/plain": [
              "Text(0.5, 1.0, 'Total messages sent grouped by day')"
            ]
          },
          "metadata": {
            "tags": []
          },
          "execution_count": 35
        },
        {
          "output_type": "display_data",
          "data": {
            "image/png": "[encoded data removed]",
            "text/plain": [
              "<Figure size 1728x432 with 2 Axes>"
            ]
          },
          "metadata": {
            "tags": [],
            "needs_background": "light"
          }
        }
      ]
    },
    {
      "cell_type": "code",
      "metadata": {
        "colab": {
          "base_uri": "https://localhost:8080/"
        },
        "id": "uUmRtJcBCPAd",
        "outputId": "792c5cae-2368-4cef-e366-af2f7ceea321"
      },
      "source": [
        "df['hour_sent'] = df['datetime'].apply(lambda x: x.hour)\n",
        "grouped_by_time = df.groupby('hour_sent').sum().reset_index().sort_values(by = 'count', ascending = False)\n",
        "sns.barplot(y = 'count', x = 'hour_sent', data = grouped_by_time, ax = axs[1])\n",
        "axs[1].set_title('Most Active Hours')"
      ],
      "execution_count": null,
      "outputs": [
        {
          "output_type": "execute_result",
          "data": {
            "text/plain": [
              "Text(0.5, 1.0, 'Most Active Hours')"
            ]
          },
          "metadata": {
            "tags": []
          },
          "execution_count": 36
        }
      ]
    },
    {
      "cell_type": "code",
      "metadata": {
        "colab": {
          "base_uri": "https://localhost:8080/",
          "height": 388
        },
        "id": "W6tHrK2nCUlT",
        "outputId": "bcc134c9-5202-4d3a-b5c8-1f900e692eb2"
      },
      "source": [
        "plt.figure(figsize = (18, 6))\n",
        "grouped_by_date = df.groupby('date').sum().reset_index().sort_values(by = 'count', ascending = False).head(15)\n",
        "grouped_by_date['day_sent'] = grouped_by_date['date'].apply(lambda x: x.strftime('%a'))\n",
        "ax = sns.barplot(y = 'count', x = 'date', data = grouped_by_date)"
      ],
      "execution_count": null,
      "outputs": [
        {
          "output_type": "display_data",
          "data": {
            "image/png": "[encoded data removed]",
            "text/plain": [
              "<Figure size 1296x432 with 1 Axes>"
            ]
          },
          "metadata": {
            "tags": [],
            "needs_background": "light"
          }
        }
      ]
    },
    {
      "cell_type": "code",
      "metadata": {
        "id": "-OnhqqHJCcgz"
      },
      "source": [
        "for bar, label in zip(ax.patches, grouped_by_date['day_sent']):\n",
        "    x = bar.get_x()\n",
        "    width = bar.get_width()\n",
        "    height = bar.get_height()\n",
        "    ax.text(x + width/2., height + 10, label, ha=\"center\") \n"
      ],
      "execution_count": null,
      "outputs": []
    },
    {
      "cell_type": "code",
      "metadata": {
        "colab": {
          "base_uri": "https://localhost:8080/",
          "height": 298
        },
        "id": "WQfbPUBIDsXZ",
        "outputId": "e1d252b9-1503-4190-eb3a-413bf8dd2693"
      },
      "source": [
        "ax.set_xticklabels(ax.get_xticklabels(), rotation = 30)\n",
        "plt.title('Most Active Days')"
      ],
      "execution_count": null,
      "outputs": [
        {
          "output_type": "execute_result",
          "data": {
            "text/plain": [
              "Text(0.5, 1.0, 'Most Active Days')"
            ]
          },
          "metadata": {
            "tags": []
          },
          "execution_count": 39
        },
        {
          "output_type": "display_data",
          "data": {
            "image/png": "[encoded data removed]",
            "text/plain": [
              "<Figure size 432x288 with 1 Axes>"
            ]
          },
          "metadata": {
            "tags": [],
            "needs_background": "light"
          }
        }
      ]
    },
    {
      "cell_type": "code",
      "metadata": {
        "id": "YUnWG14pDvZ1"
      },
      "source": [
        "df['emojis'] = df['msg'].apply(lambda x: ''.join(c for c in x if c in emoji.UNICODE_EMOJI))\n",
        "emoji_df = df[df['emojis'].apply(lambda x: True if x else False)]"
      ],
      "execution_count": null,
      "outputs": []
    },
    {
      "cell_type": "code",
      "metadata": {
        "id": "kT-PSHs8D2X4"
      },
      "source": [
        "emoji_dict = dict.fromkeys(df['name'].unique())\n",
        "for key in emoji_dict.keys():\n",
        "  emoji_dict[key] = {}\n",
        "  for emoji_key in emoji.UNICODE_EMOJI.keys():\n",
        "    emoji_dict[key][emoji_key] = 0"
      ],
      "execution_count": null,
      "outputs": []
    },
    {
      "cell_type": "code",
      "metadata": {
        "id": "_z3HsheDD63G"
      },
      "source": [
        "for name, emojis in zip(emoji_df['name'], emoji_df['emojis']):\n",
        "  for single_emoji in emojis:\n",
        "    emoji_dict[name][single_emoji] += 1"
      ],
      "execution_count": null,
      "outputs": []
    },
    {
      "cell_type": "code",
      "metadata": {
        "id": "CI15cHX7EAbG"
      },
      "source": [
        "for name in df['name'].unique():\n",
        "  emoji_dict[name] = {k: v for k, v in sorted(emoji_dict[name].items(), key = lambda item: item[1], reverse = True)}"
      ],
      "execution_count": null,
      "outputs": []
    },
    {
      "cell_type": "code",
      "metadata": {
        "colab": {
          "base_uri": "https://localhost:8080/",
          "height": 806
        },
        "id": "1Fxyw-DgEDMB",
        "outputId": "ed9b7da5-bc27-4616-ea90-87ad2cd0e77c"
      },
      "source": [
        "grouped_df['most_used_emojis'] = grouped_df['name'].apply(lambda x: dict(itertools.islice(emoji_dict[x].items(), 5)))\n",
        "grouped_df['total_emojis_used'] = grouped_df['name'].apply(lambda x: sum(emoji_dict[x].values()))\n",
        "grouped_df = grouped_df.sort_values(by = 'total_emojis_used', ascending = False)\n",
        "plt.figure(figsize = (12, 6))\n",
        "sns.barplot(x = 'name', y = 'total_emojis_used', data = grouped_df, palette = get_colors_of_certain_order(grouped_df['name']))\n",
        "plt.title('Total Emojis Used')\n",
        "grouped_df[['name', 'most_used_emojis']]\n"
      ],
      "execution_count": null,
      "outputs": [
        {
          "output_type": "execute_result",
          "data": {
            "text/html": [
              "<div>\n",
              "<style scoped>\n",
              "    .dataframe tbody tr th:only-of-type {\n",
              "        vertical-align: middle;\n",
              "    }\n",
              "\n",
              "    .dataframe tbody tr th {\n",
              "        vertical-align: top;\n",
              "    }\n",
              "\n",
              "    .dataframe thead th {\n",
              "        text-align: right;\n",
              "    }\n",
              "</style>\n",
              "<table border=\"1\" class=\"dataframe\">\n",
              "  <thead>\n",
              "    <tr style=\"text-align: right;\">\n",
              "      <th></th>\n",
              "      <th>name</th>\n",
              "      <th>most_used_emojis</th>\n",
              "    </tr>\n",
              "  </thead>\n",
              "  <tbody>\n",
              "    <tr>\n",
              "      <th>70</th>\n",
              "      <td>SilentGhost+</td>\n",
              "      <td>{'😂': 1910, '🏽': 92, '🤝': 74, '🔥': 30, '🙂': 19}</td>\n",
              "    </tr>\n",
              "    <tr>\n",
              "      <th>56</th>\n",
              "      <td>+233 55 521 4548</td>\n",
              "      <td>{'😂': 1324, '🔥': 52, '🌝': 28, '🤝': 24, '😑': 19}</td>\n",
              "    </tr>\n",
              "    <tr>\n",
              "      <th>59</th>\n",
              "      <td>+233 55 728 4617</td>\n",
              "      <td>{'😹': 806, '🔥': 145, '😭': 102, '💔': 23, '😡': 21}</td>\n",
              "    </tr>\n",
              "    <tr>\n",
              "      <th>28</th>\n",
              "      <td>+233 26 381 9011</td>\n",
              "      <td>{'😂': 906, '🔥': 55, '💀': 31, '🙂': 22, '😭': 21}</td>\n",
              "    </tr>\n",
              "    <tr>\n",
              "      <th>19</th>\n",
              "      <td>+233 24 196 4653</td>\n",
              "      <td>{'😹': 620, '😂': 208, '😊': 18, '👀': 17, '☹': 13}</td>\n",
              "    </tr>\n",
              "    <tr>\n",
              "      <th>...</th>\n",
              "      <td>...</td>\n",
              "      <td>...</td>\n",
              "    </tr>\n",
              "    <tr>\n",
              "      <th>66</th>\n",
              "      <td>+44 7411 440030</td>\n",
              "      <td>{'🥇': 0, '🥈': 0, '🥉': 0, '🆎': 0, '🏧': 0}</td>\n",
              "    </tr>\n",
              "    <tr>\n",
              "      <th>12</th>\n",
              "      <td>+233 20 674 4429</td>\n",
              "      <td>{'🥇': 0, '🥈': 0, '🥉': 0, '🆎': 0, '🏧': 0}</td>\n",
              "    </tr>\n",
              "    <tr>\n",
              "      <th>4</th>\n",
              "      <td>+233 20 152 2502</td>\n",
              "      <td>{'🥇': 0, '🥈': 0, '🥉': 0, '🆎': 0, '🏧': 0}</td>\n",
              "    </tr>\n",
              "    <tr>\n",
              "      <th>2</th>\n",
              "      <td>+1 (615) 810</td>\n",
              "      <td>{'🥇': 0, '🥈': 0, '🥉': 0, '🆎': 0, '🏧': 0}</td>\n",
              "    </tr>\n",
              "    <tr>\n",
              "      <th>0</th>\n",
              "      <td>+1 (470) 284</td>\n",
              "      <td>{'🥇': 0, '🥈': 0, '🥉': 0, '🆎': 0, '🏧': 0}</td>\n",
              "    </tr>\n",
              "  </tbody>\n",
              "</table>\n",
              "<p>72 rows × 2 columns</p>\n",
              "</div>"
            ],
            "text/plain": [
              "                name                                  most_used_emojis\n",
              "70      SilentGhost+   {'😂': 1910, '🏽': 92, '🤝': 74, '🔥': 30, '🙂': 19}\n",
              "56  +233 55 521 4548   {'😂': 1324, '🔥': 52, '🌝': 28, '🤝': 24, '😑': 19}\n",
              "59  +233 55 728 4617  {'😹': 806, '🔥': 145, '😭': 102, '💔': 23, '😡': 21}\n",
              "28  +233 26 381 9011    {'😂': 906, '🔥': 55, '💀': 31, '🙂': 22, '😭': 21}\n",
              "19  +233 24 196 4653   {'😹': 620, '😂': 208, '😊': 18, '👀': 17, '☹': 13}\n",
              "..               ...                                               ...\n",
              "66   +44 7411 440030          {'🥇': 0, '🥈': 0, '🥉': 0, '🆎': 0, '🏧': 0}\n",
              "12  +233 20 674 4429          {'🥇': 0, '🥈': 0, '🥉': 0, '🆎': 0, '🏧': 0}\n",
              "4   +233 20 152 2502          {'🥇': 0, '🥈': 0, '🥉': 0, '🆎': 0, '🏧': 0}\n",
              "2       +1 (615) 810          {'🥇': 0, '🥈': 0, '🥉': 0, '🆎': 0, '🏧': 0}\n",
              "0       +1 (470) 284          {'🥇': 0, '🥈': 0, '🥉': 0, '🆎': 0, '🏧': 0}\n",
              "\n",
              "[72 rows x 2 columns]"
            ]
          },
          "metadata": {
            "tags": []
          },
          "execution_count": 44
        },
        {
          "output_type": "display_data",
          "data": {
            "image/png": "[encoded data removed]",
            "text/plain": [
              "<Figure size 864x432 with 1 Axes>"
            ]
          },
          "metadata": {
            "tags": [],
            "needs_background": "light"
          }
        }
      ]
    },
    {
      "cell_type": "code",
      "metadata": {
        "colab": {
          "base_uri": "https://localhost:8080/",
          "height": 49
        },
        "id": "dm6LYh8UFKJP",
        "outputId": "1df75eb7-58ce-410f-f652-53393c8466f0"
      },
      "source": [
        "df[df['name'] == 'RF'].sort_values(by = 'msg_length', ascending = False).iloc[:4]"
      ],
      "execution_count": null,
      "outputs": [
        {
          "output_type": "execute_result",
          "data": {
            "text/html": [
              "<div>\n",
              "<style scoped>\n",
              "    .dataframe tbody tr th:only-of-type {\n",
              "        vertical-align: middle;\n",
              "    }\n",
              "\n",
              "    .dataframe tbody tr th {\n",
              "        vertical-align: top;\n",
              "    }\n",
              "\n",
              "    .dataframe thead th {\n",
              "        text-align: right;\n",
              "    }\n",
              "</style>\n",
              "<table border=\"1\" class=\"dataframe\">\n",
              "  <thead>\n",
              "    <tr style=\"text-align: right;\">\n",
              "      <th></th>\n",
              "      <th>datetime</th>\n",
              "      <th>name</th>\n",
              "      <th>msg</th>\n",
              "      <th>date</th>\n",
              "      <th>day_sent</th>\n",
              "      <th>month_sent</th>\n",
              "      <th>year_sent</th>\n",
              "      <th>count</th>\n",
              "      <th>msg_length</th>\n",
              "      <th>is_media</th>\n",
              "      <th>hour_sent</th>\n",
              "      <th>emojis</th>\n",
              "    </tr>\n",
              "  </thead>\n",
              "  <tbody>\n",
              "  </tbody>\n",
              "</table>\n",
              "</div>"
            ],
            "text/plain": [
              "Empty DataFrame\n",
              "Columns: [datetime, name, msg, date, day_sent, month_sent, year_sent, count, msg_length, is_media, hour_sent, emojis]\n",
              "Index: []"
            ]
          },
          "metadata": {
            "tags": []
          },
          "execution_count": 45
        }
      ]
    },
    {
      "cell_type": "code",
      "metadata": {
        "colab": {
          "base_uri": "https://localhost:8080/",
          "height": 289
        },
        "id": "9eHxTPRsFobP",
        "outputId": "b6ab646a-0ed4-451f-801f-d730f777e3fa"
      },
      "source": [
        "df['swear'] = df['msg'].apply(lambda x: sum(predict([str(x)])))\n",
        "df.head()"
      ],
      "execution_count": null,
      "outputs": [
        {
          "output_type": "execute_result",
          "data": {
            "text/html": [
              "<div>\n",
              "<style scoped>\n",
              "    .dataframe tbody tr th:only-of-type {\n",
              "        vertical-align: middle;\n",
              "    }\n",
              "\n",
              "    .dataframe tbody tr th {\n",
              "        vertical-align: top;\n",
              "    }\n",
              "\n",
              "    .dataframe thead th {\n",
              "        text-align: right;\n",
              "    }\n",
              "</style>\n",
              "<table border=\"1\" class=\"dataframe\">\n",
              "  <thead>\n",
              "    <tr style=\"text-align: right;\">\n",
              "      <th></th>\n",
              "      <th>datetime</th>\n",
              "      <th>name</th>\n",
              "      <th>msg</th>\n",
              "      <th>date</th>\n",
              "      <th>day_sent</th>\n",
              "      <th>month_sent</th>\n",
              "      <th>year_sent</th>\n",
              "      <th>count</th>\n",
              "      <th>msg_length</th>\n",
              "      <th>is_media</th>\n",
              "      <th>hour_sent</th>\n",
              "      <th>emojis</th>\n",
              "      <th>swear</th>\n",
              "    </tr>\n",
              "  </thead>\n",
              "  <tbody>\n",
              "    <tr>\n",
              "      <th>0</th>\n",
              "      <td>2020-11-17 10:16:00</td>\n",
              "      <td>SilentGhost+</td>\n",
              "      <td>&lt;generator object &lt;genexpr&gt; at 0x7ff04f2d13b8&gt;</td>\n",
              "      <td>2020-11-17</td>\n",
              "      <td>Tue</td>\n",
              "      <td>Nov</td>\n",
              "      <td>2020</td>\n",
              "      <td>1</td>\n",
              "      <td>0</td>\n",
              "      <td>0</td>\n",
              "      <td>10</td>\n",
              "      <td></td>\n",
              "      <td>0</td>\n",
              "    </tr>\n",
              "    <tr>\n",
              "      <th>19538</th>\n",
              "      <td>2020-11-17 10:16:00</td>\n",
              "      <td>+233 55 521 4548</td>\n",
              "      <td>Ayeduase access bank</td>\n",
              "      <td>2020-11-17</td>\n",
              "      <td>Tue</td>\n",
              "      <td>Nov</td>\n",
              "      <td>2020</td>\n",
              "      <td>1</td>\n",
              "      <td>21</td>\n",
              "      <td>0</td>\n",
              "      <td>10</td>\n",
              "      <td></td>\n",
              "      <td>0</td>\n",
              "    </tr>\n",
              "    <tr>\n",
              "      <th>19539</th>\n",
              "      <td>2020-11-17 10:16:00</td>\n",
              "      <td>+233 55 521 4548</td>\n",
              "      <td>Ano know o😂😂</td>\n",
              "      <td>2020-11-17</td>\n",
              "      <td>Tue</td>\n",
              "      <td>Nov</td>\n",
              "      <td>2020</td>\n",
              "      <td>1</td>\n",
              "      <td>13</td>\n",
              "      <td>0</td>\n",
              "      <td>10</td>\n",
              "      <td>😂😂</td>\n",
              "      <td>0</td>\n",
              "    </tr>\n",
              "    <tr>\n",
              "      <th>19540</th>\n",
              "      <td>2020-11-17 10:16:00</td>\n",
              "      <td>+233 24 196 4653</td>\n",
              "      <td>But the thing be say cant they be jumping int...</td>\n",
              "      <td>2020-11-17</td>\n",
              "      <td>Tue</td>\n",
              "      <td>Nov</td>\n",
              "      <td>2020</td>\n",
              "      <td>1</td>\n",
              "      <td>84</td>\n",
              "      <td>0</td>\n",
              "      <td>10</td>\n",
              "      <td></td>\n",
              "      <td>0</td>\n",
              "    </tr>\n",
              "    <tr>\n",
              "      <th>19537</th>\n",
              "      <td>2020-11-17 10:16:00</td>\n",
              "      <td>SilentGhost+</td>\n",
              "      <td>Ayeduase dey where?</td>\n",
              "      <td>2020-11-17</td>\n",
              "      <td>Tue</td>\n",
              "      <td>Nov</td>\n",
              "      <td>2020</td>\n",
              "      <td>1</td>\n",
              "      <td>20</td>\n",
              "      <td>0</td>\n",
              "      <td>10</td>\n",
              "      <td></td>\n",
              "      <td>0</td>\n",
              "    </tr>\n",
              "  </tbody>\n",
              "</table>\n",
              "</div>"
            ],
            "text/plain": [
              "                 datetime              name  ... emojis swear\n",
              "0     2020-11-17 10:16:00      SilentGhost+  ...            0\n",
              "19538 2020-11-17 10:16:00  +233 55 521 4548  ...            0\n",
              "19539 2020-11-17 10:16:00  +233 55 521 4548  ...     😂😂     0\n",
              "19540 2020-11-17 10:16:00  +233 24 196 4653  ...            0\n",
              "19537 2020-11-17 10:16:00      SilentGhost+  ...            0\n",
              "\n",
              "[5 rows x 13 columns]"
            ]
          },
          "metadata": {
            "tags": []
          },
          "execution_count": 46
        }
      ]
    },
    {
      "cell_type": "code",
      "metadata": {
        "colab": {
          "base_uri": "https://localhost:8080/",
          "height": 421
        },
        "id": "JlwP-P0tGNao",
        "outputId": "abb7b50f-cfec-47b4-8e46-6367f20e8c60"
      },
      "source": [
        "plt.figure(figsize = (12, 6))\n",
        "avg_swear_scores = df.groupby('name').mean().sort_values(by = 'swear', ascending = False)['swear'].reset_index()\n",
        "sns.barplot(x = 'name', y = 'swear', data = avg_swear_scores, palette = get_colors_of_certain_order(avg_swear_scores['name']))\n",
        "plt.title('Percentage of texts that contain swear words')"
      ],
      "execution_count": null,
      "outputs": [
        {
          "output_type": "execute_result",
          "data": {
            "text/plain": [
              "Text(0.5, 1.0, 'Percentage of texts that contain swear words')"
            ]
          },
          "metadata": {
            "tags": []
          },
          "execution_count": 47
        },
        {
          "output_type": "display_data",
          "data": {
            "image/png": "[encoded data removed]",
            "text/plain": [
              "<Figure size 864x432 with 1 Axes>"
            ]
          },
          "metadata": {
            "tags": [],
            "needs_background": "light"
          }
        }
      ]
    },
    {
      "cell_type": "code",
      "metadata": {
        "colab": {
          "base_uri": "https://localhost:8080/",
          "height": 377
        },
        "id": "vAfD1zDKG8__",
        "outputId": "450d7478-ebee-46fa-e8d4-8e50be726e91"
      },
      "source": [
        "fig, axs = plt.subplots(ncols = 2, figsize = (24, 6))\n",
        "grouped_by_day = df.groupby('day_sent').sum().reset_index()[['day_sent', 'count']]\n",
        "sns.barplot(y = 'count', x = 'day_sent', data = grouped_by_day, order = days, ax = axs[0])\n",
        "axs[0].set_title('Total messages sent grouped by day')"
      ],
      "execution_count": null,
      "outputs": [
        {
          "output_type": "execute_result",
          "data": {
            "text/plain": [
              "Text(0.5, 1.0, 'Total messages sent grouped by day')"
            ]
          },
          "metadata": {
            "tags": []
          },
          "execution_count": 48
        },
        {
          "output_type": "display_data",
          "data": {
            "image/png": "[encoded data removed]",
            "text/plain": [
              "<Figure size 1728x432 with 2 Axes>"
            ]
          },
          "metadata": {
            "tags": [],
            "needs_background": "light"
          }
        }
      ]
    },
    {
      "cell_type": "code",
      "metadata": {
        "colab": {
          "base_uri": "https://localhost:8080/"
        },
        "id": "CvPLE2ItHI6P",
        "outputId": "d8f1bcd9-d8e8-4353-b952-d6a41c9fbcbb"
      },
      "source": [
        "df['hour_sent'] = df['datetime'].apply(lambda x: x.hour)\n",
        "grouped_by_time = df.groupby('hour_sent').sum().reset_index().sort_values(by = 'count', ascending = False)\n",
        "sns.barplot(y = 'count', x = 'hour_sent', data = grouped_by_time, ax = axs[1])\n",
        "axs[1].set_title('Most Active Hours')"
      ],
      "execution_count": null,
      "outputs": [
        {
          "output_type": "execute_result",
          "data": {
            "text/plain": [
              "Text(0.5, 1.0, 'Most Active Hours')"
            ]
          },
          "metadata": {
            "tags": []
          },
          "execution_count": 49
        }
      ]
    },
    {
      "cell_type": "code",
      "metadata": {
        "colab": {
          "base_uri": "https://localhost:8080/",
          "height": 704
        },
        "id": "y3cpYbUIHRRZ",
        "outputId": "82191b38-c38d-4711-aa24-114ffd9fd154"
      },
      "source": [
        "fig, axs = plt.subplots(nrows = 2, figsize = (10, 12))\n",
        "sid = SentimentIntensityAnalyzer()"
      ],
      "execution_count": null,
      "outputs": [
        {
          "output_type": "display_data",
          "data": {
            "image/png": "[encoded data removed]",
            "text/plain": [
              "<Figure size 720x864 with 2 Axes>"
            ]
          },
          "metadata": {
            "tags": [],
            "needs_background": "light"
          }
        }
      ]
    },
    {
      "cell_type": "code",
      "metadata": {
        "colab": {
          "base_uri": "https://localhost:8080/"
        },
        "id": "WJw9_cMUHVW-",
        "outputId": "935c6808-4bd6-4ca7-af2a-a922031e68c9"
      },
      "source": [
        "df['sentiment_vader'] = df['msg'].apply(lambda x: sid.polarity_scores(str(x))['compound'])\n",
        "grouped_by_name = df.groupby('name').mean().reset_index().sort_values(by = 'sentiment_vader', ascending = False)\n",
        "sns.barplot(x = 'name', y = 'sentiment_vader', data = grouped_by_name, palette = get_colors_of_certain_order(grouped_by_name['name']), ax = axs[0])\n",
        "axs[0].set_title('Average VADER sentiment score')"
      ],
      "execution_count": null,
      "outputs": [
        {
          "output_type": "execute_result",
          "data": {
            "text/plain": [
              "Text(0.5, 1.0, 'Average VADER sentiment score')"
            ]
          },
          "metadata": {
            "tags": []
          },
          "execution_count": 51
        }
      ]
    },
    {
      "cell_type": "code",
      "metadata": {
        "colab": {
          "base_uri": "https://localhost:8080/"
        },
        "id": "gjsP-pk7HlH-",
        "outputId": "9cdd0c9b-a9f6-4763-f888-138722966254"
      },
      "source": [
        "df['sentiment_textblob'] = df['msg'].apply(lambda x: TextBlob(str(x)).sentiment.polarity)\n",
        "grouped_by_name = df.groupby('name').mean().reset_index().sort_values(by = 'sentiment_textblob', ascending = False)\n",
        "sns.barplot(x = 'name', y = 'sentiment_textblob', data = grouped_by_name, palette = get_colors_of_certain_order(grouped_by_name['name']), ax = axs[1])\n",
        "axs[1].set_title('Average TextBlob sentiment score')"
      ],
      "execution_count": null,
      "outputs": [
        {
          "output_type": "execute_result",
          "data": {
            "text/plain": [
              "Text(0.5, 1.0, 'Average TextBlob sentiment score')"
            ]
          },
          "metadata": {
            "tags": []
          },
          "execution_count": 52
        }
      ]
    },
    {
      "cell_type": "code",
      "metadata": {
        "colab": {
          "base_uri": "https://localhost:8080/",
          "height": 669
        },
        "id": "AgdqMRDoHyLO",
        "outputId": "82070344-bf20-4ef7-a22b-f03f7fa7e9d7"
      },
      "source": [
        "df.sort_values(by = 'sentiment_textblob', ascending = False)[['name', 'msg', 'sentiment_vader', 'sentiment_textblob']].head(20)"
      ],
      "execution_count": null,
      "outputs": [
        {
          "output_type": "execute_result",
          "data": {
            "text/html": [
              "<div>\n",
              "<style scoped>\n",
              "    .dataframe tbody tr th:only-of-type {\n",
              "        vertical-align: middle;\n",
              "    }\n",
              "\n",
              "    .dataframe tbody tr th {\n",
              "        vertical-align: top;\n",
              "    }\n",
              "\n",
              "    .dataframe thead th {\n",
              "        text-align: right;\n",
              "    }\n",
              "</style>\n",
              "<table border=\"1\" class=\"dataframe\">\n",
              "  <thead>\n",
              "    <tr style=\"text-align: right;\">\n",
              "      <th></th>\n",
              "      <th>name</th>\n",
              "      <th>msg</th>\n",
              "      <th>sentiment_vader</th>\n",
              "      <th>sentiment_textblob</th>\n",
              "    </tr>\n",
              "  </thead>\n",
              "  <tbody>\n",
              "    <tr>\n",
              "      <th>29346</th>\n",
              "      <td>+233 55 521 4548</td>\n",
              "      <td>Naa o I dey want legendary</td>\n",
              "      <td>0.0772</td>\n",
              "      <td>1.0</td>\n",
              "    </tr>\n",
              "    <tr>\n",
              "      <th>28968</th>\n",
              "      <td>+233 55 521 4548</td>\n",
              "      <td>Wey legendary gun you get?</td>\n",
              "      <td>-0.3400</td>\n",
              "      <td>1.0</td>\n",
              "    </tr>\n",
              "    <tr>\n",
              "      <th>42383</th>\n",
              "      <td>+233 26 381 9011</td>\n",
              "      <td>Best swimmer</td>\n",
              "      <td>0.6369</td>\n",
              "      <td>1.0</td>\n",
              "    </tr>\n",
              "    <tr>\n",
              "      <th>45255</th>\n",
              "      <td>+233 55 630 9247</td>\n",
              "      <td>Best price</td>\n",
              "      <td>0.6369</td>\n",
              "      <td>1.0</td>\n",
              "    </tr>\n",
              "    <tr>\n",
              "      <th>47482</th>\n",
              "      <td>+233 27 679 6992</td>\n",
              "      <td>Perfect video</td>\n",
              "      <td>0.5719</td>\n",
              "      <td>1.0</td>\n",
              "    </tr>\n",
              "    <tr>\n",
              "      <th>49027</th>\n",
              "      <td>+233 57 615 9749</td>\n",
              "      <td>Sicov legendary be 6500</td>\n",
              "      <td>0.0000</td>\n",
              "      <td>1.0</td>\n",
              "    </tr>\n",
              "    <tr>\n",
              "      <th>39131</th>\n",
              "      <td>+233 26 381 9011</td>\n",
              "      <td>Cook something delicious er</td>\n",
              "      <td>0.5719</td>\n",
              "      <td>1.0</td>\n",
              "    </tr>\n",
              "    <tr>\n",
              "      <th>35095</th>\n",
              "      <td>PopeOfDeath+</td>\n",
              "      <td>Chale me deE idk. All i know is best MP. So n...</td>\n",
              "      <td>0.5859</td>\n",
              "      <td>1.0</td>\n",
              "    </tr>\n",
              "    <tr>\n",
              "      <th>49011</th>\n",
              "      <td>SilentGhost+</td>\n",
              "      <td>Lawyers den lies deɛ best friends o</td>\n",
              "      <td>0.6705</td>\n",
              "      <td>1.0</td>\n",
              "    </tr>\n",
              "    <tr>\n",
              "      <th>24815</th>\n",
              "      <td>+233 55 521 4548</td>\n",
              "      <td>One of the best what?🤔</td>\n",
              "      <td>0.6369</td>\n",
              "      <td>1.0</td>\n",
              "    </tr>\n",
              "    <tr>\n",
              "      <th>21821</th>\n",
              "      <td>+233 26 381 9011</td>\n",
              "      <td>We all want the best</td>\n",
              "      <td>0.6705</td>\n",
              "      <td>1.0</td>\n",
              "    </tr>\n",
              "    <tr>\n",
              "      <th>39472</th>\n",
              "      <td>+233 55 521 4548</td>\n",
              "      <td>He dey legendary?</td>\n",
              "      <td>0.0000</td>\n",
              "      <td>1.0</td>\n",
              "    </tr>\n",
              "    <tr>\n",
              "      <th>35086</th>\n",
              "      <td>+233 55 314 0472</td>\n",
              "      <td>How will you know the best MP team?</td>\n",
              "      <td>0.6369</td>\n",
              "      <td>1.0</td>\n",
              "    </tr>\n",
              "    <tr>\n",
              "      <th>31108</th>\n",
              "      <td>+233 24 196 4653</td>\n",
              "      <td>Fa sor h)😹😹 me if i reach Legendary norr the ...</td>\n",
              "      <td>0.0258</td>\n",
              "      <td>1.0</td>\n",
              "    </tr>\n",
              "    <tr>\n",
              "      <th>40916</th>\n",
              "      <td>+233 24 422 0425</td>\n",
              "      <td>br saf i no reach legendary saf</td>\n",
              "      <td>-0.2732</td>\n",
              "      <td>1.0</td>\n",
              "    </tr>\n",
              "    <tr>\n",
              "      <th>36662</th>\n",
              "      <td>+233 24 120 5516</td>\n",
              "      <td>You look at the gun you have then you play ac...</td>\n",
              "      <td>0.6369</td>\n",
              "      <td>1.0</td>\n",
              "    </tr>\n",
              "    <tr>\n",
              "      <th>47976</th>\n",
              "      <td>+233 54 395 5735</td>\n",
              "      <td>Ex president Kuffour said, cut ur coat accord...</td>\n",
              "      <td>0.3818</td>\n",
              "      <td>1.0</td>\n",
              "    </tr>\n",
              "    <tr>\n",
              "      <th>33366</th>\n",
              "      <td>+233 24 120 5516</td>\n",
              "      <td>What's the best way to grind for credit? I ne...</td>\n",
              "      <td>0.8979</td>\n",
              "      <td>1.0</td>\n",
              "    </tr>\n",
              "    <tr>\n",
              "      <th>33390</th>\n",
              "      <td>SilentGhost+</td>\n",
              "      <td>E get legendary guns too</td>\n",
              "      <td>0.0000</td>\n",
              "      <td>1.0</td>\n",
              "    </tr>\n",
              "    <tr>\n",
              "      <th>26667</th>\n",
              "      <td>+233 20 302 4948</td>\n",
              "      <td>Awesome tell Perry</td>\n",
              "      <td>0.6249</td>\n",
              "      <td>1.0</td>\n",
              "    </tr>\n",
              "  </tbody>\n",
              "</table>\n",
              "</div>"
            ],
            "text/plain": [
              "                   name  ... sentiment_textblob\n",
              "29346  +233 55 521 4548  ...                1.0\n",
              "28968  +233 55 521 4548  ...                1.0\n",
              "42383  +233 26 381 9011  ...                1.0\n",
              "45255  +233 55 630 9247  ...                1.0\n",
              "47482  +233 27 679 6992  ...                1.0\n",
              "49027  +233 57 615 9749  ...                1.0\n",
              "39131  +233 26 381 9011  ...                1.0\n",
              "35095      PopeOfDeath+  ...                1.0\n",
              "49011      SilentGhost+  ...                1.0\n",
              "24815  +233 55 521 4548  ...                1.0\n",
              "21821  +233 26 381 9011  ...                1.0\n",
              "39472  +233 55 521 4548  ...                1.0\n",
              "35086  +233 55 314 0472  ...                1.0\n",
              "31108  +233 24 196 4653  ...                1.0\n",
              "40916  +233 24 422 0425  ...                1.0\n",
              "36662  +233 24 120 5516  ...                1.0\n",
              "47976  +233 54 395 5735  ...                1.0\n",
              "33366  +233 24 120 5516  ...                1.0\n",
              "33390      SilentGhost+  ...                1.0\n",
              "26667  +233 20 302 4948  ...                1.0\n",
              "\n",
              "[20 rows x 4 columns]"
            ]
          },
          "metadata": {
            "tags": []
          },
          "execution_count": 53
        }
      ]
    },
    {
      "cell_type": "code",
      "metadata": {
        "id": "2JqHDPcPH87k"
      },
      "source": [
        ""
      ],
      "execution_count": null,
      "outputs": []
    }
  ]
}